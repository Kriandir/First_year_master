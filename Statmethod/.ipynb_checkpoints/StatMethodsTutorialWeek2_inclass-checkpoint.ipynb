{
 "cells": [
  {
   "cell_type": "markdown",
   "metadata": {},
   "source": [
    "#Starting up"
   ]
  },
  {
   "cell_type": "code",
   "execution_count": 16,
   "metadata": {
    "collapsed": false
   },
   "outputs": [
    {
     "name": "stdout",
     "output_type": "stream",
     "text": [
      "Does seaborn exist on the computer? True\n"
     ]
    }
   ],
   "source": [
    "import numpy as np\n",
    "import scipy.stats\n",
    "import scipy.optimize\n",
    "import matplotlib.pyplot as plt\n",
    "\n",
    "# iPython magic command for inline figures. If this command is not given, figures are generated in windows.\n",
    "# An asterisk appears in the cell prompt (i.e. \"In [*]:\"), and the kernel stalls until the window is closed.\n",
    "%matplotlib inline\n",
    "\n",
    "## Below are two simple examples of exception handling\n",
    "\n",
    "## Try to import pandas. If not existent, set flag = False, and raise an exception.\n",
    "try:\n",
    "    import pandas as pd\n",
    "    pd_flag = True\n",
    "except ImportError:\n",
    "    print(\"Package pandas not found. Cannot do funky data structures!\")\n",
    "    pd_flag = False\n",
    "    \n",
    "## Try to import seaborn.\n",
    "try:\n",
    "    import seaborn as sns\n",
    "    sns_flag = True\n",
    "    sns.set_style(\"whitegrid\")\n",
    "    sns.set_style(\"ticks\")\n",
    "except ImportError:\n",
    "    sns_flag = False\n",
    "print(\"Does seaborn exist on the computer? \" + str(sns_flag))"
   ]
  },
  {
   "cell_type": "markdown",
   "metadata": {},
   "source": [
    "#Correlations: Pearson's r and Spearman's rho"
   ]
  },
  {
   "cell_type": "markdown",
   "metadata": {},
   "source": [
    "###  Computing the correlation coefficient"
   ]
  },
  {
   "cell_type": "markdown",
   "metadata": {},
   "source": [
    "You have already seen the correlation coefficient calculated via Pearson's method ($r$).  We can also use `scipy.stats` to calculate Spearman's correlation coefficient, $\\rho$.  We'll do this below by simulating two sets of correlated random numbers:"
   ]
  },
  {
   "cell_type": "code",
   "execution_count": 17,
   "metadata": {
    "collapsed": false
   },
   "outputs": [],
   "source": [
    "x = np.random.chisquare(2, size=50)\n",
    "y = x + np.random.normal(size=50)\n",
    "\n",
    "## Calculate Pearson's r and Spearman's rho for the data (x,y) and print them out, also plot the data:\n"
   ]
  },
  {
   "cell_type": "markdown",
   "metadata": {},
   "source": [
    "Note that the two methods give different values (including for the $p$-value).  <i>How can this be?</i> Surely the data are correlated or they are not, with a certain probability?  It is important to bear in mind that (as in all statistical tests) we are not really asking the question \"Are the data correlated?\" rather we are asking: assuming that the data are really uncorrelated, independent and identically distributed, what is the probability that we would see such a non-zero absolute value of <i>this particular test-statistic</i> by chance.  $r$ and $\\rho$ are <i>different</i> test-statistics: they are optimised in different ways to spot deviations from random uncorrelated data."
   ]
  },
  {
   "cell_type": "markdown",
   "metadata": {},
   "source": [
    "Let's look at this difference between the two methods in more detail.  What happens when our data has certain properties, which might favour or disfavour one of the methods? \n",
    "\n",
    "###Comparing Pearson's $r$ and Spearman's $\\rho$\n",
    "\n",
    "First, let us consider the case where there is a cloud of data points with no underlying correlation, plus extreme outlier (as might be expected from some error in the experiment or data recording).  You may remember something like this as one of the four cases from \"Anscombe's quartet\" shown in the first lecture:"
   ]
  },
  {
   "cell_type": "code",
   "execution_count": 18,
   "metadata": {
    "collapsed": false
   },
   "outputs": [],
   "source": [
    "## First generate the random data: use the normal distribution to generate 50 data points which are uncorrelated \n",
    "## between x and y and then replace one with an outlier which implies a correlation, similar to that seen in \n",
    "## Anscombe's quartet (see lecture notes from Week 1)\n",
    "\n",
    "\n",
    "\n",
    "## Now plot the data and compare Pearson's r and Spearman's rho and the associated p-values\n",
    "\n"
   ]
  },
  {
   "cell_type": "markdown",
   "metadata": {},
   "source": [
    "# Linear regression"
   ]
  },
  {
   "cell_type": "markdown",
   "metadata": {},
   "source": [
    "### Linear regression - generating and plotting the data"
   ]
  },
  {
   "cell_type": "markdown",
   "metadata": {},
   "source": [
    "Here we just make and plot some fake data (with no randomisation). In the boxes below, we will see how to do linear\n",
    "regression by hand and using built-in functions in numpy and scipy."
   ]
  },
  {
   "cell_type": "code",
   "execution_count": 19,
   "metadata": {
    "collapsed": false
   },
   "outputs": [
    {
     "data": {
      "image/png": "[encoded data removed]",
      "text/plain": [
       "<matplotlib.figure.Figure at 0x10b780410>"
      ]
     },
     "metadata": {},
     "output_type": "display_data"
    }
   ],
   "source": [
    "x = np.array([10.0, 12.2, 14.4, 16.7, 18.9, 21.1, 23.3, 25.6, 27.8, 30.0])\n",
    "y = np.array([12.6, 17.5, 19.8, 17.0, 19.7, 20.6, 23.9, 28.9, 26.0, 30.6])\n",
    "\n",
    "fig, ax = plt.subplots(1,1,figsize=(6,6))\n",
    "ax.plot(x, y, \"o\")\n",
    "ax.set_xlabel(\"x\", fontsize=20)\n",
    "ax.set_ylabel(\"y\", fontsize=20)\n",
    "ax.tick_params(axis='x', labelsize=20)\n",
    "ax.tick_params(axis='y', labelsize=20)\n",
    "ax.set_xlim(0.0, 35.0)\n",
    "ax.set_ylim(0.0, 35.0)\n",
    "plt.show()"
   ]
  },
  {
   "cell_type": "markdown",
   "metadata": {},
   "source": [
    "### Simple linear regression - the long way"
   ]
  },
  {
   "cell_type": "markdown",
   "metadata": {},
   "source": [
    "Now we use the explicit calculation of the linear regression coefficients to plot the regression line\n",
    "on top of the data."
   ]
  },
  {
   "cell_type": "code",
   "execution_count": 20,
   "metadata": {
    "collapsed": false
   },
   "outputs": [
    {
     "data": {
      "image/png": "[encoded data removed]",
      "text/plain": [
       "<matplotlib.figure.Figure at 0x10bb027d0>"
      ]
     },
     "metadata": {},
     "output_type": "display_data"
    }
   ],
   "source": [
    "xm = np.mean(x)\n",
    "ym = np.mean(y)\n",
    "\n",
    "x2m = np.mean(x**2.)\n",
    "xym = np.mean(y*x)\n",
    "\n",
    "b = (xym - xm*ym)/(x2m - xm**2.)\n",
    "a = ym - b*xm\n",
    "\n",
    "fig, ax = plt.subplots(1,figsize=(6,6))\n",
    "ax.plot(x,y, \"o\");\n",
    "ax.plot(x, a+b*x, lw=2);\n",
    "plt.show()"
   ]
  },
  {
   "cell_type": "markdown",
   "metadata": {},
   "source": [
    "### Simple linear regression, the short way"
   ]
  },
  {
   "cell_type": "markdown",
   "metadata": {},
   "source": [
    "There are various ways to do this:\n",
    "* using `np.polyfit()`\n",
    "* using `scipy.optimize.curve_fit()`\n",
    "* using seaborn's `regplot()` or `lmplot`. Note that this will automatically also draw 68%\n",
    "confidence contours."
   ]
  },
  {
   "cell_type": "code",
   "execution_count": 21,
   "metadata": {
    "collapsed": false
   },
   "outputs": [
    {
     "data": {
      "text/plain": [
       "[<matplotlib.lines.Line2D at 0x10bc96e10>]"
      ]
     },
     "execution_count": 21,
     "metadata": {},
     "output_type": "execute_result"
    },
    {
     "data": {
      "image/png": "[encoded data removed]",
      "text/plain": [
       "<matplotlib.figure.Figure at 0x10b79f950>"
      ]
     },
     "metadata": {},
     "output_type": "display_data"
    }
   ],
   "source": [
    "fig, (ax1, ax2) = plt.subplots(1, 2, figsize=(15,6))\n",
    "\n",
    "## first attempt: numpy.polyfit\n",
    "\n",
    "\n",
    "## second attempt: scipy.optimize.curve_fit\n",
    "func = lambda x, a, b: x*a+b\n",
    "r2, pcov = scipy.optimize.curve_fit(func, x,y, p0=(1,1))\n",
    "ax2.plot(x,y, \"o\");\n",
    "ax2.plot(x, r2[0]*x+r2[1], lw=2)\n",
    "\n",
    "## fancy version with pandas and seaborn\n",
    "##df = pd.DataFrame(np.transpose([x,y]), index=np.arange(len(x)), columns=[\"x\", \"y\"])\n",
    "##fig = plt.figure()\n",
    "##sns.regplot(\"x\", \"y\", df)\n",
    "##plt.show()\n"
   ]
  },
  {
   "cell_type": "markdown",
   "metadata": {},
   "source": [
    "### Linear regression of Reynolds' data"
   ]
  },
  {
   "cell_type": "markdown",
   "metadata": {},
   "source": [
    "This uses the data in `reynolds.txt`. We can load this into Python very simply, then change\n",
    "the units."
   ]
  },
  {
   "cell_type": "code",
   "execution_count": 22,
   "metadata": {
    "collapsed": false
   },
   "outputs": [
    {
     "data": {
      "image/png": "[encoded data removed]",
      "text/plain": [
       "<matplotlib.figure.Figure at 0x102643f90>"
      ]
     },
     "metadata": {},
     "output_type": "display_data"
    }
   ],
   "source": [
    "reynolds = np.genfromtxt (\"reynolds.txt\", dtype=np.float, names=[\"dP\", \"v\"], skip_header=1, autostrip=True)\n",
    "\n",
    "## change units\n",
    "ppm = 9.80665e3\n",
    "dp = reynolds[\"dP\"]*ppm\n",
    "v = reynolds[\"v\"]\n",
    "\n",
    "## save to new file:\n",
    "np.savetxt(\"fluid.txt\", np.transpose([dp, v]))\n",
    "popt, pcov = scipy.optimize.curve_fit(func,dp, v)\n",
    "fig, (ax1, ax2) = plt.subplots(1,2, figsize=(12,6)); plt.subplots_adjust(wspace=0.5)\n",
    "ax1.plot(dp, v, \"o\")\n",
    "ax1.plot(dp, popt[0]*dp+popt[1], lw=2)\n",
    "ax1.set_xlabel(\"Pressure gradient (Pa/m)\", fontsize=20)\n",
    "\n",
    "ax1.set_ylabel(\"Velocity (m/s)\", fontsize=20)\n",
    "\n",
    "ax2.plot(dp, v-(popt[0]*dp+popt[1]), \"o\")\n",
    "ax2.set_xlabel(\"Pressure gradient (Pa/m)\",fontsize=20)\n",
    "ax2.set_ylabel(\"Velocity residuals (m/s)\", fontsize=20)\n",
    "\n",
    "for ax in (ax1,ax2):\n",
    "    ax.tick_params(labelsize=16)\n",
    "    \n",
    "plt.show()"
   ]
  },
  {
   "cell_type": "markdown",
   "metadata": {},
   "source": [
    "### A closer look at Reynolds' data "
   ]
  },
  {
   "cell_type": "markdown",
   "metadata": {},
   "source": [
    "The fit doesn't quite work at high values of the Pressure gradient. We can exclude those data\n",
    "points for now:"
   ]
  },
  {
   "cell_type": "code",
   "execution_count": 23,
   "metadata": {
    "collapsed": false
   },
   "outputs": [
    {
     "data": {
      "image/png": "[encoded data removed]",
      "text/plain": [
       "<matplotlib.figure.Figure at 0x10bce4e10>"
      ]
     },
     "metadata": {},
     "output_type": "display_data"
    }
   ],
   "source": [
    "dp_red = dp[:8]\n",
    "v_red = v[:8]\n",
    "\n",
    "popt_red, pcov_red = scipy.optimize.curve_fit(func, dp_red, v_red)\n",
    "fig, (ax1, ax2) = plt.subplots(1,2, figsize=(12,6))\n",
    "ax1.plot(dp_red, v_red, \"o\")\n",
    "ax1.plot(dp_red, popt_red[0]*dp_red+popt_red[1], lw=2)\n",
    "ax1.set(xlabel=\"dP\", ylabel=\"v\")\n",
    "\n",
    "ax2.plot(dp_red, v_red-(popt_red[0]*dp_red+popt_red[1]), \"o\")\n",
    "\n",
    "plt.show()"
   ]
  },
  {
   "cell_type": "markdown",
   "metadata": {},
   "source": [
    "### Numerical diagnostics of the Reynolds' data"
   ]
  },
  {
   "cell_type": "markdown",
   "metadata": {},
   "source": [
    "We can compute various sums of squares for regression analysis:"
   ]
  },
  {
   "cell_type": "code",
   "execution_count": 24,
   "metadata": {
    "collapsed": false
   },
   "outputs": [
    {
     "name": "stdout",
     "output_type": "stream",
     "text": [
      "(SSM+SSE)/SST: 0.999999999835\n",
      "r: 0.996174242308\n",
      "(0.99617424239049657, 1.3958713607042013e-07)\n"
     ]
    }
   ],
   "source": [
    "sst = np.sum((v_red - np.mean(v_red))**2.)\n",
    "\n",
    "prediction = popt_red[0]*dp_red+popt_red[1]\n",
    "\n",
    "ssm = np.sum((prediction - np.mean(v_red))**2.)\n",
    "sse = np.sum((v_red - prediction)**2.)\n",
    "r2 = ssm/sst\n",
    "\n",
    "print(\"(SSM+SSE)/SST: \" + str((ssm+sse)/sst))\n",
    "print(\"r: \" + str(np.sqrt(r2)))\n",
    "print(scipy.stats.pearsonr(dp_red, v_red))"
   ]
  },
  {
   "cell_type": "markdown",
   "metadata": {},
   "source": [
    "# Probability theory"
   ]
  },
  {
   "cell_type": "markdown",
   "metadata": {},
   "source": [
    "### Random sampling in Python"
   ]
  },
  {
   "cell_type": "markdown",
   "metadata": {},
   "source": [
    "While python itelf has excellent random number generators built in (look at the random module\n",
    "in the standard library), most of the distributions you may need for sampling are implemented\n",
    "in numpy and scipy.\n",
    "\n",
    "To sample from a list, you can use `numpy.random.choice()`. By definition, this function\n",
    "draws from a sample *with* replacement, but this can be suppressed by setting the keyword\n",
    "`replace=False`."
   ]
  },
  {
   "cell_type": "code",
   "execution_count": 25,
   "metadata": {
    "collapsed": false
   },
   "outputs": [
    {
     "name": "stdout",
     "output_type": "stream",
     "text": [
      "[ 1  2 10 19 14]\n",
      "[12  5  4  0  6 12 18  8  2  2 14  2 15  1 13  8 12  0  0 19  2  3 15  4 14\n",
      "  8  0  0  7 10  0 17 11 13  8  6  8  1 12  7 13 17 12 15  8  3 17  2 19  0\n",
      "  0  2 14 13  1 19  2  5 18  7  2  7 19  1 12 13 19 16  6  2 11  5 10 12 16\n",
      "  9 17  7 14  0 14 14  7  4 15 17  2 10  7 10  0  4 11 18  2 10 19 19 16  1]\n"
     ]
    }
   ],
   "source": [
    "s = np.arange(20) ## make 20 numbers from 0 to 19\n",
    "print(np.random.choice(s, size=5, replace=False))\n",
    "print(np.random.choice(s, size=100, replace=True))"
   ]
  },
  {
   "cell_type": "markdown",
   "metadata": {},
   "source": [
    "### Frequency distribution of a random sample in Python"
   ]
  },
  {
   "cell_type": "markdown",
   "metadata": {},
   "source": [
    "Given some randomly sampled data we can compute the frequencies of each event via a histogram. If you have discrete events, make sure that you set the boundaries of the bins correctly\n",
    "(for example, for integer events, do not make bins with width < 1). Here, by setting `bins=19`, i.e.\n",
    "19 bins, we ensure this is true. We could, however, also define the lower and upper boundaries\n",
    "of bins directly.\n",
    "Try the same exercise as below, but change nsize to larger (or smaller) values. How does the\n",
    "frequency distribution change as a function of sample size?"
   ]
  },
  {
   "cell_type": "code",
   "execution_count": 26,
   "metadata": {
    "collapsed": false
   },
   "outputs": [
    {
     "name": "stdout",
     "output_type": "stream",
     "text": [
      "[4 3 4 4 8 6 6 4 4 4 5 6 7 5 5 5 7 7 3 3]\n",
      "[  0.   1.   2.   3.   4.   5.   6.   7.   8.   9.  10.  11.  12.  13.  14.\n",
      "  15.  16.  17.  18.  19.  20.]\n"
     ]
    },
    {
     "data": {
      "image/png": "[encoded data removed]",
      "text/plain": [
       "<matplotlib.figure.Figure at 0x10a327250>"
      ]
     },
     "metadata": {},
     "output_type": "display_data"
    }
   ],
   "source": [
    "nsize=100\n",
    "x = np.random.choice(s, size=nsize, replace=True)\n",
    "\n",
    "## pure numpy histogram, plotting separate\n",
    "h, bins = np.histogram(x, bins=20, range=[0,20])\n",
    "print(h)\n",
    "print(bins)\n",
    "\n",
    "## pure numpy, with bin edges defined\n",
    "h2, bins2 = np.histogram(x, bins=np.arange(0,21,1))\n",
    "\n",
    "## plotting for numpy implementation\n",
    "fig, (ax1, ax2) = plt.subplots(1,2, figsize=(12,6), sharey=False)\n",
    "ax1.bar(bins2[:-1], h2, width=0.8)\n",
    "\n",
    "## second implementation, plotting while making histogram\n",
    "h, bins, patches = ax2.hist(x, bins=20)\n",
    "plt.show()\n",
    "\n",
    "## Or instead of the previous two lines, defining bin edges directly works too!\n",
    "#h, bins, patches = ax2.hist(x, bins=np.arange(0,21,1))\n",
    "#plt.show()"
   ]
  },
  {
   "cell_type": "markdown",
   "metadata": {},
   "source": [
    "### Playing cards in Python"
   ]
  },
  {
   "cell_type": "markdown",
   "metadata": {},
   "source": [
    "Making R style data frames in pure Python (or a combination of numpy/scipy) is hard. This\n",
    "can sort of be done using structured array and the `dtypes` object. `dtypes` allows one to define a\n",
    "name and the type of number (`int`, `float`, ...) that is being stored in the array. In the code below,\n",
    "we make a structured array where each column corresponds to a certain suit and contains 13\n",
    "cards. In general, we would advise you to keep data structures as simple as possible. You may\n",
    "also want to look at the package astropy and associated submodule `astropy.table`."
   ]
  },
  {
   "cell_type": "code",
   "execution_count": 27,
   "metadata": {
    "collapsed": false
   },
   "outputs": [
    {
     "name": "stdout",
     "output_type": "stream",
     "text": [
      "[  1.   2.   3.   4.   5.   6.   7.   8.   9.  10.  11.  12.  13.]\n",
      "2.0\n"
     ]
    }
   ],
   "source": [
    "## pure numpy/scipy implementation\n",
    "face = np.arange(1,14,1)\n",
    "\n",
    "## define the column names\n",
    "suit = [\"heart\", \"diamond\", \"spade\", \"club\"]\n",
    "\n",
    "## define the type of variable in each column\n",
    "types = [\"float64\" for i in range(len(suit))]\n",
    "\n",
    "## define a structured numpy array\n",
    "cards = np.array(face, dtype={'names':suit, 'formats':types})\n",
    "\n",
    "## this is how you call the entire suit \"heart\" or the second card in the suit \"diamonds\"\n",
    "print(cards[\"heart\"])\n",
    "print(cards[\"diamond\"][1])"
   ]
  },
  {
   "cell_type": "markdown",
   "metadata": {},
   "source": [
    "A more elegant option would be to use pandas to achieve the same thing, either by directly\n",
    "defining a pandas `DataFrame` or reading it from a dictionary."
   ]
  },
  {
   "cell_type": "code",
   "execution_count": 28,
   "metadata": {
    "collapsed": false
   },
   "outputs": [
    {
     "data": {
      "text/html": [
       "<div>\n",
       "<table border=\"1\" class=\"dataframe\">\n",
       "  <thead>\n",
       "    <tr style=\"text-align: right;\">\n",
       "      <th></th>\n",
       "      <th>club</th>\n",
       "      <th>diamond</th>\n",
       "      <th>heart</th>\n",
       "      <th>spade</th>\n",
       "    </tr>\n",
       "  </thead>\n",
       "  <tbody>\n",
       "    <tr>\n",
       "      <th>0</th>\n",
       "      <td>1</td>\n",
       "      <td>1</td>\n",
       "      <td>1</td>\n",
       "      <td>1</td>\n",
       "    </tr>\n",
       "    <tr>\n",
       "      <th>1</th>\n",
       "      <td>2</td>\n",
       "      <td>2</td>\n",
       "      <td>2</td>\n",
       "      <td>2</td>\n",
       "    </tr>\n",
       "    <tr>\n",
       "      <th>2</th>\n",
       "      <td>3</td>\n",
       "      <td>3</td>\n",
       "      <td>3</td>\n",
       "      <td>3</td>\n",
       "    </tr>\n",
       "    <tr>\n",
       "      <th>3</th>\n",
       "      <td>4</td>\n",
       "      <td>4</td>\n",
       "      <td>4</td>\n",
       "      <td>4</td>\n",
       "    </tr>\n",
       "    <tr>\n",
       "      <th>4</th>\n",
       "      <td>5</td>\n",
       "      <td>5</td>\n",
       "      <td>5</td>\n",
       "      <td>5</td>\n",
       "    </tr>\n",
       "    <tr>\n",
       "      <th>5</th>\n",
       "      <td>6</td>\n",
       "      <td>6</td>\n",
       "      <td>6</td>\n",
       "      <td>6</td>\n",
       "    </tr>\n",
       "    <tr>\n",
       "      <th>6</th>\n",
       "      <td>7</td>\n",
       "      <td>7</td>\n",
       "      <td>7</td>\n",
       "      <td>7</td>\n",
       "    </tr>\n",
       "    <tr>\n",
       "      <th>7</th>\n",
       "      <td>8</td>\n",
       "      <td>8</td>\n",
       "      <td>8</td>\n",
       "      <td>8</td>\n",
       "    </tr>\n",
       "    <tr>\n",
       "      <th>8</th>\n",
       "      <td>9</td>\n",
       "      <td>9</td>\n",
       "      <td>9</td>\n",
       "      <td>9</td>\n",
       "    </tr>\n",
       "    <tr>\n",
       "      <th>9</th>\n",
       "      <td>10</td>\n",
       "      <td>10</td>\n",
       "      <td>10</td>\n",
       "      <td>10</td>\n",
       "    </tr>\n",
       "    <tr>\n",
       "      <th>10</th>\n",
       "      <td>11</td>\n",
       "      <td>11</td>\n",
       "      <td>11</td>\n",
       "      <td>11</td>\n",
       "    </tr>\n",
       "    <tr>\n",
       "      <th>11</th>\n",
       "      <td>12</td>\n",
       "      <td>12</td>\n",
       "      <td>12</td>\n",
       "      <td>12</td>\n",
       "    </tr>\n",
       "    <tr>\n",
       "      <th>12</th>\n",
       "      <td>13</td>\n",
       "      <td>13</td>\n",
       "      <td>13</td>\n",
       "      <td>13</td>\n",
       "    </tr>\n",
       "  </tbody>\n",
       "</table>\n",
       "</div>"
      ],
      "text/plain": [
       "    club  diamond  heart  spade\n",
       "0      1        1      1      1\n",
       "1      2        2      2      2\n",
       "2      3        3      3      3\n",
       "3      4        4      4      4\n",
       "4      5        5      5      5\n",
       "5      6        6      6      6\n",
       "6      7        7      7      7\n",
       "7      8        8      8      8\n",
       "8      9        9      9      9\n",
       "9     10       10     10     10\n",
       "10    11       11     11     11\n",
       "11    12       12     12     12\n",
       "12    13       13     13     13"
      ]
     },
     "execution_count": 28,
     "metadata": {},
     "output_type": "execute_result"
    }
   ],
   "source": [
    "d = {'heart' : pd.Series(np.arange(1,14,1), index=range(13)),\n",
    "'diamond' : pd.Series(np.arange(1,14,1), index=range(13)),\n",
    "'spade' : pd.Series(np.arange(1,14,1), index=range(13)),\n",
    "'club' : pd.Series(np.arange(1,14,1), index=range(13)), }\n",
    "\n",
    "cards_df = pd.DataFrame(d)\n",
    "colour = cards_df\n",
    "colour"
   ]
  }
 ],
 "metadata": {
  "kernelspec": {
   "display_name": "Python [Root]",
   "language": "python",
   "name": "Python [Root]"
  },
  "language_info": {
   "codemirror_mode": {
    "name": "ipython",
    "version": 2
   },
   "file_extension": ".py",
   "mimetype": "text/x-python",
   "name": "python",
   "nbconvert_exporter": "python",
   "pygments_lexer": "ipython2",
   "version": "2.7.12"
  }
 },
 "nbformat": 4,
 "nbformat_minor": 0
}

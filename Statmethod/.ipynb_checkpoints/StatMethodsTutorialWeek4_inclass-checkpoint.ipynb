{
 "cells": [
  {
   "cell_type": "code",
   "execution_count": 1,
   "metadata": {
    "collapsed": false
   },
   "outputs": [
    {
     "name": "stdout",
     "output_type": "stream",
     "text": [
      "Does seaborn exist on the computer? True\n"
     ]
    }
   ],
   "source": [
    "import numpy as np\n",
    "import scipy.stats\n",
    "import scipy.optimize\n",
    "import matplotlib.pyplot as plt\n",
    "\n",
    "# iPython magic command for inline figures. If this command is not given, figures are generated in windows.\n",
    "# An asterisk appears in the cell prompt (i.e. \"In [*]:\"), and the kernel stalls until the window is closed.\n",
    "%matplotlib inline\n",
    "\n",
    "## Below are two simple examples of exception handling\n",
    "\n",
    "## Try to import pandas. If not existent, set flag = False, and raise an exception.\n",
    "try:\n",
    "    import pandas as pd\n",
    "    pd_flag = True\n",
    "except ImportError:\n",
    "    print(\"Package pandas not found. Cannot do funky data structures!\")\n",
    "    pd_flag = False\n",
    "    \n",
    "## Try to import seaborn.\n",
    "try:\n",
    "    import seaborn as sns\n",
    "    sns_flag = True\n",
    "    sns.set_style(\"whitegrid\")\n",
    "    sns.set_style(\"ticks\")\n",
    "except ImportError:\n",
    "    sns_flag = False\n",
    "print(\"Does seaborn exist on the computer? \" + str(sns_flag))"
   ]
  },
  {
   "cell_type": "markdown",
   "metadata": {
    "collapsed": true
   },
   "source": [
    "## Significance tests"
   ]
  },
  {
   "cell_type": "markdown",
   "metadata": {},
   "source": [
    "### How many sigmas?"
   ]
  },
  {
   "cell_type": "markdown",
   "metadata": {},
   "source": [
    "It is quite common, especially in experimental physics, to quote significance (or confidence levels/intervals, see later) in terms of a number of *sigmas*. The sigma value ($\\sigma$) corresponding to a given $p$-value is simply the number of standard deviations of a standard normal distirbution which exclude an integrated probability equal to the $p$-value. I.e. $p$-value = Pr$\\left(\\left|x\\right|\\ge{z}\\mid\\mu = 0, \\sigma^2=1\\right)$ (remembering that the probability is calculated on both sides of the distribution, hence the modulus for the $x$). A sigma value for a given $p$-value or vice versa can be quickly calculated using the standard normal distribution in `scipy.stats`:"
   ]
  },
  {
   "cell_type": "code",
   "execution_count": 2,
   "metadata": {
    "collapsed": false
   },
   "outputs": [
    {
     "name": "stdout",
     "output_type": "stream",
     "text": [
      "3-sigma corresponds to p = 0.00269979606326\n",
      "5-sigma corresponds to p = 5.73303143758e-07\n",
      "p-value of 0.05 corresponds to 1.95996398454 sigma\n",
      "p-value of 0.01 corresponds to 2.57582930355 sigma\n"
     ]
    }
   ],
   "source": [
    "def sigmas_to_p(sigval):\n",
    "    nd = scipy.stats.norm(0., 1.)\n",
    "    return 2.*nd.sf(sigval)\n",
    "\n",
    "def p_to_sigmas(pval):\n",
    "    nd = scipy.stats.norm(0., 1.)\n",
    "# We use the 'inverse survival function', the inverse of the cdf. We also need to divide\n",
    "# our p-value by 2 to account for the negative side of the normal distribution.\n",
    "    return nd.isf(pval/2.)\n",
    "\n",
    "print \"3-sigma corresponds to p =\",sigmas_to_p(3.)\n",
    "print \"5-sigma corresponds to p =\",sigmas_to_p(5.)\n",
    "\n",
    "print \"p-value of 0.05 corresponds to\",p_to_sigmas(0.05),\"sigma\"\n",
    "print \"p-value of 0.01 corresponds to\",p_to_sigmas(0.01),\"sigma\""
   ]
  },
  {
   "cell_type": "markdown",
   "metadata": {},
   "source": [
    "### The t-test: revisiting Michelson's speed-of-light data\n",
    "\n",
    "Let's recycle and hack some of the code we used from Week 1 (originally to split up the data to calculate statistical quantities separately for each experiment).  Using the known speed of light (299000+792.5 km/s) for our population mean, we obtain t-statistics and p-values for the 1-sample t-statistic as follows:"
   ]
  },
  {
   "cell_type": "code",
   "execution_count": 3,
   "metadata": {
    "collapsed": false
   },
   "outputs": [],
   "source": [
    "morley = np.loadtxt(\"morley.txt\", skiprows=1)\n",
    "run = morley[:,1]\n",
    "speed = morley[:,2]\n",
    "experiment = morley[:,3]\n",
    "\n",
    "## Loop over all experiments and print and write t-statistic and p-value to arrays\n",
    "tstat_all = []\n",
    "pval_all = []\n"
   ]
  },
  {
   "cell_type": "markdown",
   "metadata": {},
   "source": [
    "Collectively, it is clear that these experiments give values for the mean which are systematically too high compared to the expected value.  Note that if the t-statistics were negative, that would imply values of the mean which were <i>lower</i> than the expected value.  For the t-statistic, the absolute value conveys the size of the deviation, but the sign tells us the direction, thus the t-test is a <i>two-sided test</i>.  To see what this means in terms of the <i>p</i>-value, let's look at the result from the 4th experiment (with the least significance).\n",
    "\n",
    "We can plot the obtained t-statistic (2.0855...) on the corresponding t-distribution, which is for 19 degrees of freedom (d.o.f.), since the d.o.f. $\\nu=n-1$ where $n$ is the number of measurements used to obtain the mean, in this case $n=20$ (i.e. per experiment):"
   ]
  },
  {
   "cell_type": "code",
   "execution_count": 4,
   "metadata": {
    "collapsed": false
   },
   "outputs": [
    {
     "ename": "IndexError",
     "evalue": "list index out of range",
     "output_type": "error",
     "traceback": [
      "\u001b[0;31m---------------------------------------------------------------------------\u001b[0m",
      "\u001b[0;31mIndexError\u001b[0m                                Traceback (most recent call last)",
      "\u001b[0;32m<ipython-input-4-740c309883fd>\u001b[0m in \u001b[0;36m<module>\u001b[0;34m()\u001b[0m\n\u001b[1;32m      7\u001b[0m \u001b[0mx\u001b[0m \u001b[0;34m=\u001b[0m \u001b[0mnp\u001b[0m\u001b[0;34m.\u001b[0m\u001b[0marange\u001b[0m\u001b[0;34m(\u001b[0m\u001b[0;34m-\u001b[0m\u001b[0;36m4.0\u001b[0m\u001b[0;34m,\u001b[0m \u001b[0;36m4.0\u001b[0m\u001b[0;34m,\u001b[0m \u001b[0;36m0.1\u001b[0m\u001b[0;34m)\u001b[0m\u001b[0;34m\u001b[0m\u001b[0m\n\u001b[1;32m      8\u001b[0m \u001b[0max1\u001b[0m\u001b[0;34m.\u001b[0m\u001b[0mplot\u001b[0m\u001b[0;34m(\u001b[0m\u001b[0mx\u001b[0m\u001b[0;34m,\u001b[0m \u001b[0mt\u001b[0m\u001b[0;34m.\u001b[0m\u001b[0mpdf\u001b[0m\u001b[0;34m(\u001b[0m\u001b[0mx\u001b[0m\u001b[0;34m)\u001b[0m\u001b[0;34m,\u001b[0m \u001b[0mlw\u001b[0m\u001b[0;34m=\u001b[0m\u001b[0;36m2\u001b[0m\u001b[0;34m)\u001b[0m\u001b[0;34m\u001b[0m\u001b[0m\n\u001b[0;32m----> 9\u001b[0;31m \u001b[0mplt\u001b[0m\u001b[0;34m.\u001b[0m\u001b[0maxvline\u001b[0m\u001b[0;34m(\u001b[0m\u001b[0mx\u001b[0m\u001b[0;34m=\u001b[0m\u001b[0mtstat_all\u001b[0m\u001b[0;34m[\u001b[0m\u001b[0;36m3\u001b[0m\u001b[0;34m]\u001b[0m\u001b[0;34m,\u001b[0m \u001b[0mymin\u001b[0m\u001b[0;34m=\u001b[0m\u001b[0;36m0.0\u001b[0m\u001b[0;34m,\u001b[0m \u001b[0mymax\u001b[0m \u001b[0;34m=\u001b[0m \u001b[0;36m1.0\u001b[0m\u001b[0;34m,\u001b[0m \u001b[0mlinewidth\u001b[0m\u001b[0;34m=\u001b[0m\u001b[0;36m2\u001b[0m\u001b[0;34m,\u001b[0m \u001b[0mlinestyle\u001b[0m\u001b[0;34m=\u001b[0m\u001b[0;34m'dotted'\u001b[0m\u001b[0;34m,\u001b[0m \u001b[0mcolor\u001b[0m\u001b[0;34m=\u001b[0m\u001b[0;34m'red'\u001b[0m\u001b[0;34m)\u001b[0m\u001b[0;34m\u001b[0m\u001b[0m\n\u001b[0m\u001b[1;32m     10\u001b[0m \u001b[0max1\u001b[0m\u001b[0;34m.\u001b[0m\u001b[0mset_xlabel\u001b[0m\u001b[0;34m(\u001b[0m\u001b[0;34m\"t\"\u001b[0m\u001b[0;34m,\u001b[0m \u001b[0mfontsize\u001b[0m\u001b[0;34m=\u001b[0m\u001b[0;36m20\u001b[0m\u001b[0;34m)\u001b[0m\u001b[0;34m\u001b[0m\u001b[0m\n\u001b[1;32m     11\u001b[0m \u001b[0max1\u001b[0m\u001b[0;34m.\u001b[0m\u001b[0mset_ylabel\u001b[0m\u001b[0;34m(\u001b[0m\u001b[0;34m\"probability density\"\u001b[0m\u001b[0;34m,\u001b[0m \u001b[0mfontsize\u001b[0m\u001b[0;34m=\u001b[0m\u001b[0;36m20\u001b[0m\u001b[0;34m)\u001b[0m\u001b[0;34m\u001b[0m\u001b[0m\n",
      "\u001b[0;31mIndexError\u001b[0m: list index out of range"
     ]
    },
    {
     "data": {
      "image/png": "[encoded data removed]",
      "text/plain": [
       "<matplotlib.figure.Figure at 0x1099d5310>"
      ]
     },
     "metadata": {},
     "output_type": "display_data"
    }
   ],
   "source": [
    "## First freeze the distribution for the given degrees of freedom (which is the only 'shape parameter' of the \n",
    "## distribution)\n",
    "t = scipy.stats.t(df=19)\n",
    "\n",
    "## Now lets plot the pdf, together with a vertical line marking the measured value of the t-statistic:\n",
    "fig, ax1 = plt.subplots(1, figsize=(10,6))\n",
    "x = np.arange(-4.0, 4.0, 0.1)\n",
    "ax1.plot(x, t.pdf(x), lw=2)\n",
    "plt.axvline(x=tstat_all[3], ymin=0.0, ymax = 1.0, linewidth=2, linestyle='dotted', color='red')\n",
    "ax1.set_xlabel(\"t\", fontsize=20)\n",
    "ax1.set_ylabel(\"probability density\", fontsize=20)\n",
    "ax1.tick_params(axis='x', labelsize=20)\n",
    "ax1.tick_params(axis='y', labelsize=20)\n",
    "plt.show()"
   ]
  },
  {
   "cell_type": "markdown",
   "metadata": {},
   "source": [
    "For our significance test we need to properly frame the question in terms of the null hypothesis.  What is the null hypothesis and the corresponding question we must answer in this case?\n",
    "\n",
    "<b>\"Assuming that the true (population) mean is 299792.5 km/s, what is the probability that we would see such an extreme (or more extreme) value of the <i>t</i>-statistic from the data (assuming that the errors are normally distributed)?\"</b>\n",
    "\n",
    "What do we mean by \"such an extreme value\"?  We are talking about how far the sample mean is from the assumed population mean (normalised by the standard error), thus larger <i>absolute</i> values of the t-statistic (either negative or positive) are classed as more extreme (i.e. the t-test is a 2-sided test).  Since we would be even more surprised to obtain even larger absolute values of $t$ than we observe <i>if the assumed population mean is correct</i>, we want to know the probability that $|t|\\ge |t_{\\rm observed}|$.  This is our p-value.  Thus for the 4-th experiment we can recover the $p$-value by integrating the $t$-statistic over these extrema, using the appropriate suffix on our function:"
   ]
  },
  {
   "cell_type": "code",
   "execution_count": null,
   "metadata": {
    "collapsed": false
   },
   "outputs": [],
   "source": []
  },
  {
   "cell_type": "markdown",
   "metadata": {},
   "source": [
    "Which can be compared with the value already given by the 'scipy.stats.t' function.\n",
    "\n",
    "How should we report the significance of our results?  It depends on the context: how big a deal is it if the null hypothesis is wrong?  If you are trying to test whether the speed-of-light is really variable, it is unlikely that anybody would accept anything less than 5-sigma ($p\\sim 6\\times 10^{-7}$ or almost 1 in 2 million), and even then would suspect a systematic error in the experiment as the likely origin of the deviation (the process would then move on to replication by other groups and with different experimental set-ups).  \n",
    "\n",
    "More likely, we are curious about more mundane effects, e.g. are we looking to check something which is already suspected or known or is fairly plausible versus our null hypothesis in the light of other evidence? In this case, given we know how much evidence there is for the speed-of-light being constant (this is our 'inner Bayesian' talking, even if we don't know it!) we may suspect that there a systematic error in the experimental measurements, and would accept much lower significances as evidence for this.  Typically then, we look at what is the nearest appropriate significance limit <i>below</i> the obtained value.  The limits can then be quoted as a sigma value, or in terms of a percentage given by $1-p$ (which is our <b><i>confidence</i></b> that the null hypothesis is disproven).  \n",
    "\n",
    "A bare minimum for claiming significance is either the 95~per cent confidence level (common to many fields and seen as a potential cause of high publication of false results), or more robustly, 3-sigma (99.7 per cent confidence).\n",
    "\n",
    "So, looking at each experiment above, what is the significance of each deviation from the known speed of light?\n",
    "\n",
    "Experiment 1:  \n",
    "\n",
    "Experiment 2:  \n",
    "\n",
    "Experiment 3:  \n",
    "\n",
    "Experiment 4:  \n",
    "\n",
    "Experiment 5:  "
   ]
  },
  {
   "cell_type": "markdown",
   "metadata": {},
   "source": [
    "### The $\\chi^{2}$ test"
   ]
  },
  {
   "cell_type": "markdown",
   "metadata": {},
   "source": [
    "Now we examine the chi-squared test.  Here we must assume an underlying model which describes the expected value ($y_{\\rm mod}$) of each data point (at a value of the explanatory variable, $x$).  Assuming that the model and its parameters are correct and the errors on the data points are independent and normally distributed, the sum of the squared, weighted (by the error) residuals will follow a $\\chi^{2}$ distribution with $\\nu$ degrees of freedom.  $\\nu = n-m$ where $n$ is the number of data points and $m$ the number of <i>free</i> (i.e. allowed to vary) parameters in the model. \n",
    "\n",
    "First let's define a function for calculating the summed weighted least-squares.  We will do this in a general way so we can use it again later:"
   ]
  },
  {
   "cell_type": "code",
   "execution_count": null,
   "metadata": {
    "collapsed": false
   },
   "outputs": [],
   "source": [
    "def ChiSq(parm, xval, yval, dy): # the weighted least-squares\n",
    "    ymod = my_model(xval, parm) # model to be specified by a different function\n",
    "    return sum(pow((yval-ymod)/dy,2))"
   ]
  },
  {
   "cell_type": "markdown",
   "metadata": {},
   "source": [
    "To demonstrate the test, we will assume the null hypothesis that the values of the speed of light measured by Michelson's experiments are consistent with a constant value equal to the mean of the five measurements.  Thus we are effectively checking the idea that the measurements are consistent with one another and the <i>observed</i> mean, i.e. there is no systematic error between experiments. "
   ]
  },
  {
   "cell_type": "code",
   "execution_count": null,
   "metadata": {
    "collapsed": false
   },
   "outputs": [],
   "source": [
    "##  First we calculate the mean and standard error for each experiment\n",
    "yval = []\n",
    "yerr = []\n",
    "for s in set(experiment):\n",
    "    mean = np.mean([sp for sp, ex in zip(speed, experiment) if ex == s])\n",
    "    err = scipy.stats.sem([sp for sp, ex in zip(speed, experiment) if ex == s])\n",
    "    yval.append(mean)\n",
    "    yerr.append(err)\n",
    "\n",
    "##  Now define a 'model' by calculating the mean - parm is just used to substitute the y values here\n",
    "parm = yval\n",
    "def my_model(xval, parm):\n",
    "    return np.mean(parm)\n",
    "\n",
    "##  Now determine and print chi-squared:\n",
    "xsq_obs = \n",
    "\n"
   ]
  },
  {
   "cell_type": "markdown",
   "metadata": {},
   "source": [
    "How many degrees of freedom are there?  We have $n=5$ data points.  At face value, the model has <i>no</i> free parameters - the model is given by the mean which is a fixed value.  However, it is fixed by the data, equivalent in some sense to a best-fit and so we would be right to assume that $m=1$, thus there are 4 degrees of freedom.  We can now plot our measured value on the $\\chi^{2}_{4}$ pdf:"
   ]
  },
  {
   "cell_type": "code",
   "execution_count": null,
   "metadata": {
    "collapsed": false
   },
   "outputs": [],
   "source": [
    "### Plot the pdf and measured value"
   ]
  },
  {
   "cell_type": "markdown",
   "metadata": {},
   "source": [
    "We can already see from the figure that our observed value is well in the tail of the distribution.  Note that the chi-squared test is a 1-sided test: smaller values lie closer to the null hypothesis not further away, so if we want to test whether the data are consistent with the null-hypothesis (the assumed model), we should ask what is the probability that an equal or larger value of chi-squared would be observed by chance, if the model is correct:"
   ]
  },
  {
   "cell_type": "code",
   "execution_count": null,
   "metadata": {
    "collapsed": false
   },
   "outputs": [],
   "source": [
    "### Print the p-value\n"
   ]
  },
  {
   "cell_type": "markdown",
   "metadata": {},
   "source": [
    "Thus our confidence that the null hypothesis is false (i.e. the experimental results are in fact <b>not</b> consistent between experiments) is greater than 99 per cent, but still just less than 3-sigma.\n",
    "\n",
    "It's interesting to consider the case where our observed chi-squared was significantly small, compared to the number of degrees of freedom.  E.g. if the observed chi-squared was 0.2 in the above example, we would be in the far left tail of the distribution, supporting the null hypothesis but also unlikely ($<1$ per cent) to occur by chance.  Of course, low-probability events do happen (especially at modest but not extreme probabilities), but we might still start to suspect that the error bars are somehow overestimated, and look into this possibility."
   ]
  },
  {
   "cell_type": "markdown",
   "metadata": {},
   "source": [
    "## Maximum likelihood estimation\n",
    "\n",
    "Maximum likelihood estimation is the process of fitting models to data so that we can find the best-fitting model parameters (the <i>Maximum Likelihood Estimates</i> or <i>MLEs</i>), along with (potentially) an estimate of the goodness-of-fit of the model.  The methods can also be extended to provide confidence intervals ('error bars') on our model parameters, and also to compare different (but related) models to determine which provides the best description of the data (hypothesis testing).  We will investigate these aspects of maximum likelihood estimation in the next couple of weeks, but first we examine how to use likelihood functions combined with the suite of powerful optimisation tools in Python, in order to fit models to data and estimate the goodness-of-fit."
   ]
  },
  {
   "cell_type": "markdown",
   "metadata": {},
   "source": [
    "### Likelihood functions: Log-likelihood and weighted least-squares\n",
    "\n",
    "Before proceeding to fitting we must first define our likelihood function. Here we follow Vaughan and define a couple of possible functions: the negative log-likelihood and the weighted least-squares (i.e. to get the $\\chi^{2}$ statistic). In both cases we need to minimise the function to find the MLEs. You can choose your own form of the likelihood function to suit the data you need to fit. The negative log-likelihood calls our model and then sets up the normal distribution with a mean given by the model prediction for $y$ and a standard deviation equal to the assumed error, $dy$. We can then obtain the likelihoods from the pdf of our normal distribution. This form of the likelihood function is very flexible, since instead of a normal distribution we can choose other distributions that may be better suited to our data, i.e. a more appropriate 'statistical model' (most likely the Poisson distribution, which we will look at next week).   \n",
    "\n",
    "We have already seen the weighted least-squares approach in the form of the significance test: this function is essentially the same as the one used for the test (the underlying statistical principles are the same, and this will give us the ability to assign a confidence or 'goodness-of-fit' to our best-fitting model). This is a much simpler likelihood function, but remember that it is only applicable in the case where the errors are normally distributed!"
   ]
  },
  {
   "cell_type": "code",
   "execution_count": null,
   "metadata": {
    "collapsed": true
   },
   "outputs": [],
   "source": [
    "def LogLikelihood(parm, xval, yval, dy): # the -ve log-likelihood\n",
    "    ymod = my_model(xval, parm)  #We define our 'physical model' separately\n",
    "    nd = scipy.stats.norm(ymod, dy) #we define our normal distribution\n",
    "    return -sum(np.log(nd.pdf(yval)))\n",
    "\n",
    "def ChiSq(parm, xval, yval, dy): # the weighted least-squares\n",
    "    ymod = my_model(xval, parm)\n",
    "    return sum(pow((yval-ymod)/dy,2))"
   ]
  },
  {
   "cell_type": "markdown",
   "metadata": {},
   "source": [
    "### Fitting a constant to the speed of light data"
   ]
  },
  {
   "cell_type": "markdown",
   "metadata": {},
   "source": [
    "We'll first look at a very simple example of fitting a model to data, specifically, we are going to find the constant value which best-fits the combined means (and errors) of the five Michelson experiments.  First define the model:"
   ]
  },
  {
   "cell_type": "code",
   "execution_count": null,
   "metadata": {
    "collapsed": false
   },
   "outputs": [],
   "source": [
    "parm = np.zeros(1)  ## First set parm to be a 1-element array - we will set the value later\n",
    "def my_model(xval, parm):\n",
    "    return parm[0]"
   ]
  },
  {
   "cell_type": "markdown",
   "metadata": {},
   "source": [
    "Of course, our model is very simple and you could easily find a Python function to do the same job, but being able to define your own models allows you to do ML estimation for much more complex data.  \n",
    "\n",
    "Since we have set up our estimator - the log-likelihood or weighted least-squares - for our model, we can minimise it to find the best fitting parameters. For this we use the `scipy.optimize` module, specifically the minimize function. Besides giving this function the name of our likelihood function and the parameters to be varied to find their MLEs, we also provide the other variables used by the likelihood function (i.e. the data!) in the `args` parameter. \n",
    "\n",
    "As described in the Tutorial lecture slides, there are many options to choose from.  For simple minimisation where we aren't interested in outputting the Jacobian or Hessian (useful for estimating confidence intervals: see next week), we can use one of the standard functions like Nelder-Mead with `minimize`.\n",
    "Nelder-Mead also does not require a Jacobian to be specified for our physical model function (the gradient information in the Jacobian is used by some minimisation methods to help find the minimum). There are many more options which can be found in the documentation of the `scipy.optimize` module and associated documentation for the `minimize` function. The question of how best to do minimisation is complex and it very much depends on the type of data, models and your own computational resources, so it is best to read further on the topic if you have a specific problem to solve.  We will look at some further examples \n",
    "\n",
    "Now we'll import the `scipy.optimize` package to make the function calls simpler.  Then we will set up our starting parameters and call the optimisation function. "
   ]
  },
  {
   "cell_type": "code",
   "execution_count": null,
   "metadata": {
    "collapsed": false
   },
   "outputs": [],
   "source": [
    "import scipy.optimize as op\n",
    "\n",
    "## First set the starting values of model parameters.  It depends on the model function used, \n",
    "## but in general you should make sure these aren’t way off the expected values or the optimisation may get stuck\n",
    "## - this doesn’t mean you need to know the values already, just choose something\n",
    "## that seems plausible given the data.\n",
    "\n",
    "parm[0] = 800.\n",
    "## We can recycle the means and standard errors calculated earlier in the notebook, for clarity we also\n",
    "## set the xval to the experiment number, but note in this case that the model is not a function of this value\n",
    "## (in most other situations, the model for y will depend on x)\n",
    "xval = [1, 2, 3, 4, 5]\n",
    "\n",
    "## Now the optimisation function: we can also change the function called to ChiSq\n",
    "## without changing anything else, since the parameters are the same.\n",
    "\n",
    "result = op.minimize(LogLikelihood, parm, args=(xval, yval, yerr), method=\"Nelder-Mead\")\n",
    "\n",
    "## The minimize function outputs the array of best-fitting parameters (x) and the value of the function minimised \n",
    "## e.g. the -ve Log-likelihood, or the chi-squared.\n",
    "\n",
    "mle = result[\"x\"]\n",
    "mlval = result[\"fun\"]\n",
    "print \"-ve log-likelihood fit results:\"\n",
    "print \"Best-fitting constant = \" + str(mle[0]) + \" with -ve log-likelihood = \" + str(mlval)\n",
    "\n",
    "## Changing to weighted-least squares...\n",
    "\n"
   ]
  },
  {
   "cell_type": "markdown",
   "metadata": {},
   "source": [
    "It's interesting to note that the best-fitting constant to the data here is significantly different from the mean of all the data (852.4) calculated previously.  This is because it has been weighted by the standard error on the mean for each experiment, with the experiments with greater scatter in their recorded values contributing less to the model fit.  As a result of this, the chi-squared value is also significantly smaller than the value we obtained earlier for the unweighted mean.  \n",
    "\n",
    "With the output of the weighted least-squares fit, we can go further and estimate the significance using the $\\chi^{2}$ distribution for 4 d.o.f. (5 data points - 1 free parameter in the model).  This is our <i>goodness-of-fit</i>.  Calculate it using the function you used earlier - clearly the obtained constant is a much better estimator of the underlying mean of the experiment, and the goodness-of-fit implies that the experiments are in fact consistent with a single mean value (although one which is systematically too high compared to the true value of the speed-of-light).\n",
    "\n",
    "You can feel free to experiment with using other methods for fitting beyond Nelder-Mead, but note that in this case, for the very simple function minimisation as used here, the choice of method probably won't have much impact on the fitting time, which will be effectively instantaneous."
   ]
  },
  {
   "cell_type": "markdown",
   "metadata": {},
   "source": [
    "### Fitting Reynolds' data"
   ]
  },
  {
   "cell_type": "markdown",
   "metadata": {},
   "source": [
    "We will now build some code to find the MLEs for the parameters of the simple linear model that can be used to fit the laminar-flow regime of Reynolds’ data. First we load in the data:"
   ]
  },
  {
   "cell_type": "code",
   "execution_count": null,
   "metadata": {
    "collapsed": true
   },
   "outputs": [],
   "source": [
    "reynolds = np.genfromtxt (\"reynolds.txt\", dtype=np.float, names=[\"dP\", \"v\"], skip_header=1, autostrip=True)\n",
    "## change units\n",
    "ppm = 9.80665e3\n",
    "dp = reynolds[\"dP\"]*ppm\n",
    "v = reynolds[\"v\"]\n",
    "## Now select the first 8 pairs of values, where the flow is laminar,\n",
    "## and assign to x and y\n",
    "xval = dp[0:8]\n",
    "yval = v[0:8]\n",
    "dy = 6.3e-3  ## We will assume a constant error for the purposes of this exercise"
   ]
  },
  {
   "cell_type": "markdown",
   "metadata": {},
   "source": [
    "Now we need to define our <i>physical</i> model:"
   ]
  },
  {
   "cell_type": "code",
   "execution_count": null,
   "metadata": {
    "collapsed": true
   },
   "outputs": [],
   "source": [
    "# Here, parm is the vector of parameters, intercept a (parm[0]) and gradient b (parm[1])\n",
    "# Now define the model:\n",
    "\n"
   ]
  },
  {
   "cell_type": "markdown",
   "metadata": {},
   "source": [
    "For our <i>statistical</i> model we will assume that the errors are normally distributed with the value given for the standard deviation, and thus we can use the weighted least-squares likelihood function (which allows us to obtain the chi-squared value and hence also a goodness-of-fit).\n",
    "\n",
    "As above, the output of the `minimize` function is assigned to `result`, and different output variables can be\n",
    "provided depending on what is called, with further information provided under the `scipy.optimize.OptimizeResult` class description. `x` provides the MLEs of the `parm` model parameters, while `fun` provides the value of the likelihood function obtained by the minimisation function."
   ]
  },
  {
   "cell_type": "code",
   "execution_count": null,
   "metadata": {
    "collapsed": false
   },
   "outputs": [],
   "source": [
    "# First set the starting values of model parameters.  You should make sure\n",
    "# these aren’t way off the expected values or the optimisation may get stuck\n",
    "# - this doesn’t mean you need to know the values already, just choose something\n",
    "# that seems plausible given the data.\n",
    "\n",
    "# Now the optimisation function: we can also change the function called to ChiSq\n",
    "# without changing anything else, since the parameters are the same.\n",
    "\n",
    "\n",
    "# Output the results\n",
    "\n",
    "\n",
    "# Output the goodness-of-fit\n"
   ]
  },
  {
   "cell_type": "markdown",
   "metadata": {},
   "source": [
    "### Plotting the fitting results"
   ]
  },
  {
   "cell_type": "markdown",
   "metadata": {},
   "source": [
    "We can use the returned parameter MLEs to make a graphical comparison with the data (which includes the error bars), plotting the data vs. the model, and also the residuals. These plots are useful to check that the model fit looks reasonable and allow us to check for any systematic structure in the residuals."
   ]
  },
  {
   "cell_type": "code",
   "execution_count": null,
   "metadata": {
    "collapsed": false
   },
   "outputs": [],
   "source": [
    "fig, (ax1, ax2) = plt.subplots(1,2, figsize=(12,6)); plt.subplots_adjust(wspace=0.5)\n",
    "ax1.errorbar(xval, yval, yerr=dy, marker=\"o\", linestyle=\"\")\n",
    "ax1.plot(xval, my_model(xval,[a_mle, b_mle]), lw=2)\n",
    "ax1.set_xlabel(\"Pressure gradient (Pa/m)\", fontsize=20)\n",
    "ax1.set_ylabel(\"Velocity (m/s)\", fontsize=20)\n",
    "ax1.tick_params(labelsize=16)\n",
    "ax2.errorbar(xval, yval-my_model(xval,[a_mle, b_mle]), yerr=dy, marker=\"o\", linestyle=\"\")\n",
    "ax2.set_xlabel(\"Pressure gradient (Pa/m)\",fontsize=20)\n",
    "ax2.set_ylabel(\"Velocity residuals (m/s)\", fontsize=20)\n",
    "ax2.axhline(0.0, color='r', linestyle='dotted', lw=2) ## when showing residuals it is useful to also show the 0 line\n",
    "ax2.tick_params(labelsize=16)\n",
    "plt.show()"
   ]
  },
  {
   "cell_type": "markdown",
   "metadata": {},
   "source": [
    "There is no obvious systematic structure in the residuals and the fits look reasonable. Note that, when doing weighted least-squares fitting, the reduced chi-squared returned by dividing the `mlval` parameter by the degrees-of-freedom (6 in this case, since there are 8 data points and 2 free parameters) is close to 1. This also implies a good fit to the data, and that the error bars are not overestimated (you could try doubling the size of the error bars and repeating the procedure and the plots...)."
   ]
  },
  {
   "cell_type": "markdown",
   "metadata": {},
   "source": [
    "### Mapping out the likelihood using brute force and plotting the likelihood surface"
   ]
  },
  {
   "cell_type": "markdown",
   "metadata": {},
   "source": [
    "We can map out the way the likelihood changes with the model parameters using computational ‘brute force’, simply by stepping through a grid of the parameters and calculating the likelihood function for each point on the grid. This is computationally expensive but allows us to search the ‘likelihood surface’ quite effectively, to ensure our fit does not get stuck in any local minima. This is not really a concern with the model we are fitting here, but may be quite useful when fitting more complex models to data. The code below will also print the minimum value of negative log-likelihood, which you can compare with the value obtained from minimisation."
   ]
  },
  {
   "cell_type": "code",
   "execution_count": null,
   "metadata": {
    "collapsed": false
   },
   "outputs": [],
   "source": [
    "nvals_a = 50\n",
    "nvals_b = 50\n",
    "aval = np.linspace(-0.01, 0.03, nvals_a)\n",
    "bval = np.linspace(0.003, 0.004, nvals_b)\n",
    "ll = np.zeros((nvals_a,nvals_b))\n",
    "for i in range(nvals_a): ## x dimension\n",
    "    for j in range(nvals_b): ## y dimension\n",
    "        ll[i,j] = LogLikelihood([aval[i], bval[j]], xval, yval, dy)\n",
    "print \"Brute force minimum value\", np.amin(ll)"
   ]
  },
  {
   "cell_type": "markdown",
   "metadata": {},
   "source": [
    "Now we want to make a plot of our likelihood surface. We can do this using matplotlib’s surface function:"
   ]
  },
  {
   "cell_type": "code",
   "execution_count": null,
   "metadata": {
    "collapsed": false,
    "scrolled": true
   },
   "outputs": [],
   "source": [
    "#  First we assign all three variables to their own 2D arrays:\n",
    "X, Y = np.meshgrid(aval,bval)\n",
    "Z = np.exp(-ll)\n",
    "#  Now call the surface function and import the 3d axes module to make some\n",
    "#  seriously funky plots!\n",
    "from mpl_toolkits.mplot3d import axes3d\n",
    "fig = plt.figure(figsize=(12,12))\n",
    "ax = fig.gca(projection=\"3d\")\n",
    "ax.plot_surface(X, Y, Z, rstride=1, cstride=1, alpha=0.3)\n",
    "ax.set_xlabel(\"a\",fontsize=20)\n",
    "ax.set_xlim(-0.01, 0.03)\n",
    "ax.set_ylabel(\"b\",fontsize=20)\n",
    "ax.set_ylim(0.003, 0.004)\n",
    "ax.tick_params(labelsize=14)\n",
    "plt.show()"
   ]
  },
  {
   "cell_type": "markdown",
   "metadata": {},
   "source": [
    "You can even rotate and move around the non-inline version of the plot if you wish to explore the shape of the surface!"
   ]
  }
 ],
 "metadata": {
  "kernelspec": {
   "display_name": "Python [Root]",
   "language": "python",
   "name": "Python [Root]"
  },
  "language_info": {
   "codemirror_mode": {
    "name": "ipython",
    "version": 2
   },
   "file_extension": ".py",
   "mimetype": "text/x-python",
   "name": "python",
   "nbconvert_exporter": "python",
   "pygments_lexer": "ipython2",
   "version": "2.7.12"
  }
 },
 "nbformat": 4,
 "nbformat_minor": 0
}

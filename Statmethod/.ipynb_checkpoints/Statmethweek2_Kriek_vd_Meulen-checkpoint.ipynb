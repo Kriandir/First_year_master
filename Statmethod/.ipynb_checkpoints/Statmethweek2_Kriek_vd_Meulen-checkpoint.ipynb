{
 "cells": [
  {
   "cell_type": "markdown",
   "metadata": {},
   "source": [
    "# Week 2"
   ]
  },
  {
   "cell_type": "code",
   "execution_count": 143,
   "metadata": {
    "collapsed": false
   },
   "outputs": [
    {
     "name": "stdout",
     "output_type": "stream",
     "text": [
      "Does seaborn exist on the computer? True\n"
     ]
    }
   ],
   "source": [
    "import numpy as np\n",
    "import scipy.stats as ss\n",
    "import scipy.optimize\n",
    "import matplotlib.pyplot as plt\n",
    "import math\n",
    "import random as rand\n",
    "\n",
    "\n",
    "# iPython magic command for inline figures. If this command is not given, figures are generated in windows.\n",
    "# An asterisk appears in the cell prompt (i.e. \"In [*]:\"), and the kernel stalls until the window is closed.\n",
    "%matplotlib inline\n",
    "\n",
    "## Below are two simple examples of exception handling\n",
    "\n",
    "## Try to import pandas. If not existent, set flag = False, and raise an exception.\n",
    "try:\n",
    "    import pandas as pd\n",
    "    pd_flag = True\n",
    "except ImportError:\n",
    "    print(\"Package pandas not found. Cannot do funky data structures!\")\n",
    "    pd_flag = False\n",
    "    \n",
    "## Try to import seaborn.\n",
    "try:\n",
    "    import seaborn as sns\n",
    "    sns_flag = True\n",
    "    sns.set_style(\"whitegrid\")\n",
    "    sns.set_style(\"ticks\")\n",
    "except ImportError:\n",
    "    sns_flag = False\n",
    "print(\"Does seaborn exist on the computer? \" + str(sns_flag))"
   ]
  },
  {
   "cell_type": "markdown",
   "metadata": {},
   "source": [
    "## Question 1"
   ]
  },
  {
   "cell_type": "markdown",
   "metadata": {},
   "source": [
    "We have the formula:\n",
    "\\begin{equation}\n",
    "b = \\frac{s_{xy}}{s^2_x}\n",
    "\\end{equation}\n",
    "and the equations:\n",
    "\\begin{equation}\n",
    "\\begin{split}\n",
    "s_{xy} &= \\frac{1}{n-1} * \\sum\\limits_{i=1}^n{(x_i - \\bar x)(y_i - \\bar y)}\\\\\n",
    "s^2_x &= \\frac{1}{n-1} * \\sum\\limits_{i=1}^n{(x_i - \\bar x)^2}\n",
    "\\end{split}\n",
    "\\end{equation}\n",
    "\n",
    "filling this in in b we get the following derivations:\n",
    "\\begin{equation}\n",
    "\\begin{split}\n",
    "b &= (\\frac{1}{n-1} * \\frac{n-1}{1}) * \\frac{\\sum\\limits_{i=1}^n{(x_i - \\bar x)(y_i - \\bar y)}}{\\sum\\limits_{i=1}^n{(x_i - \\bar x)^2}} \\\\\n",
    "&= \\frac{\\sum\\limits_{i=1}^n{(y_i - \\bar y)}}{\\sum\\limits_{i=1}^n{(x_i - \\bar x)}} * \\frac{\\sum\\limits_{i=1}^n{x_i + \\bar x}}{\\sum\\limits_{i=1}^n{x_i + \\bar x}} \\\\\n",
    "&= \\frac{\\sum\\limits_{i=1}^n{(x_iy_i - \\bar y \\bar x + y_i \\bar x - x_i \\bar y)}}{\\sum\\limits_{i=1}^n{(x_ix_i - \\bar x \\bar x)}}\n",
    "\\end{split}\n",
    "\\end{equation}\n",
    "\n",
    "now using the fact that:\n",
    "\\begin{equation}\n",
    "\\sum\\limits_{i=1}^n{( y_i \\bar x - x_i \\bar y)} = 0\n",
    "\\end{equation}\n",
    "\n",
    "we get:\n",
    "\\begin{equation}\n",
    "\\begin{split}\n",
    "b &= \\frac{\\sum\\limits_{i=1}^n{(x_iy_i - \\bar y \\bar x}}{\\sum\\limits_{i=1}^n{(x_ix_i - \\bar x \\bar x)}} \\\\\n",
    "&= \\frac{\\bar {xy} - \\bar x \\bar y}{\\bar {x^2} - \\bar x^2}\n",
    "\\end{split}\n",
    "\\end{equation}"
   ]
  },
  {
   "cell_type": "markdown",
   "metadata": {},
   "source": [
    "## Question 2"
   ]
  },
  {
   "cell_type": "code",
   "execution_count": 144,
   "metadata": {
    "collapsed": false
   },
   "outputs": [
    {
     "name": "stdout",
     "output_type": "stream",
     "text": [
      " the correlation is: 0.791\n"
     ]
    },
    {
     "data": {
      "image/png": "[encoded data removed]",
      "text/plain": [
       "<matplotlib.figure.Figure at 0x2af76fb7c850>"
      ]
     },
     "metadata": {},
     "output_type": "display_data"
    },
    {
     "name": "stdout",
     "output_type": "stream",
     "text": [
      "This makes H0 our slope which has the value: 60890.547\n"
     ]
    }
   ],
   "source": [
    "# read in data\n",
    "sdss = pd.read_table(\"sdss140kms_magz.dat\")\n",
    "rmag = sdss.rmag\n",
    "z = sdss.z\n",
    "\n",
    "# Create numpy arrays for both distance and velocity\n",
    "d = np.array(10**((rmag + 20.5 -25.)/5.))\n",
    "v = np.array(z*3e8)\n",
    "\n",
    "\n",
    "\n",
    "# calculate correlation\n",
    "correlation = ss.pearsonr(d,v)[0]\n",
    "print \" the correlation is: %0.3f\" %correlation\n",
    "\n",
    "# Calculate linear regression frozen at the origin\n",
    "xym = np.mean(d*v)\n",
    "xm2 = np.mean(d**2)\n",
    "\n",
    "a = (xym)/(xm2)\n",
    "\n",
    "# plot\n",
    "fig = plt.figure(figsize=[12,6])\n",
    "plt.plot(d,v, \"o\");\n",
    "plt.plot(d, a*d, lw=2)\n",
    "plt.axis([-10,750,-10,6e7])\n",
    "plt.ylabel(\"velocity in m/s\")\n",
    "plt.xlabel(\"distance in Mpc\")\n",
    "plt.show()\n",
    "\n",
    "print \"This makes H0 our slope which has the value: %0.3f\" %a\n",
    "\n"
   ]
  },
  {
   "cell_type": "markdown",
   "metadata": {
    "collapsed": true
   },
   "source": [
    "## Question 3"
   ]
  },
  {
   "cell_type": "markdown",
   "metadata": {},
   "source": [
    "$N$ is suitable large if we repeat our bootstrap:\n",
    "\\begin{equation}\n",
    "N \\approx n*\\ln(n))^2 \n",
    "\\end{equation}\n",
    "number of times where n is the amount of data points"
   ]
  },
  {
   "cell_type": "code",
   "execution_count": 145,
   "metadata": {
    "collapsed": false
   },
   "outputs": [
    {
     "data": {
      "text/plain": [
       "<matplotlib.text.Text at 0x2af771308f50>"
      ]
     },
     "execution_count": 145,
     "metadata": {},
     "output_type": "execute_result"
    },
    {
     "data": {
      "image/png": "[encoded data removed]",
      "text/plain": [
       "<matplotlib.figure.Figure at 0x2af770fff1d0>"
      ]
     },
     "metadata": {},
     "output_type": "display_data"
    }
   ],
   "source": [
    "# define N and n and round N up \n",
    "n = len(d)\n",
    "N = n*(np.log(n))**2\n",
    "N = int(math.ceil(N))\n",
    "a = []\n",
    "\n",
    "\n",
    "# loop bootstrap N times\n",
    "for i in range(N):\n",
    "    rv = []\n",
    "    rd = []\n",
    "    \n",
    "#   select random number n times and get value for distance and velocity\n",
    "    \n",
    "    index = np.random.choice(np.arange(len(d)),size=len(d),replace = True)\n",
    "    for i in index:\n",
    "        rd.append(d[i])\n",
    "        rv.append(v[i])\n",
    "        \n",
    "#   put rd and rv in numpy array and then calculate the linear regression frozen at 0\n",
    "    rd = np.array(rd)\n",
    "    rv = np.array(rv)\n",
    "    \n",
    "    xym = np.mean(rd*rv)\n",
    "    xm2 = np.mean(rd**2)\n",
    "    a.append((xym)/(xm2))\n",
    "\n",
    "#  plot in a histogram\n",
    "fig = plt.figure(figsize=[12,6])\n",
    "plt.hist(a,bins=int(math.ceil(N**(1./3))))\n",
    "plt.xlabel('H0 (m / Mpc s)')\n",
    "plt.ylabel('counts')"
   ]
  },
  {
   "cell_type": "markdown",
   "metadata": {
    "collapsed": true
   },
   "source": [
    "## Question 4"
   ]
  },
  {
   "cell_type": "markdown",
   "metadata": {},
   "source": [
    "left:\n",
    "\n",
    "(A $\\cap$ B) $\\cup$ C\n",
    "\n",
    "right:\n",
    "\n",
    "(A $\\cap$ C) $\\cup$ (B $\\cap$ C)"
   ]
  },
  {
   "cell_type": "markdown",
   "metadata": {},
   "source": [
    "## Question 5"
   ]
  },
  {
   "cell_type": "markdown",
   "metadata": {},
   "source": [
    "A:\n",
    "\n",
    "\\begin{equation}\n",
    "P(H,H,T) = (\\frac{1}{2})^3 = \\frac{1}{8}\n",
    "\\end{equation}\n",
    "\n",
    "B:\n",
    "\n",
    "\\begin{equation}\n",
    "P(H,H,T,anyorder) = 3 * (\\frac{1}{2})^3 = \\frac{3}{8}\n",
    "\\end{equation}\n",
    "since we have 3 different ways to get HHT or THH or HTH.\n",
    "\n",
    "C:\n",
    "\n",
    "\\begin{equation}\n",
    "P(atleast 2 H) = 4 * (\\frac{1}{2})^3 = \\frac{4}{8} = \\frac{1}{2}\n",
    "\\end{equation}\n",
    "we use the same HHT,THH and HTH as in b but there is also HHH now."
   ]
  },
  {
   "cell_type": "markdown",
   "metadata": {},
   "source": [
    "## Question 6"
   ]
  },
  {
   "cell_type": "markdown",
   "metadata": {},
   "source": [
    " \\begin{equation}\n",
    " \\begin{split}\n",
    " &Pr(G) = \\frac{1}{10^5} = 10^{-5}\\\\\n",
    " &Pr(G^c) = (1-10^{-5})\\\\\n",
    " &Pr(M|G) = 1\\\\\n",
    " &Pr(M|G^c) = 10^{-6}\\\\\n",
    " \\\\\n",
    " &Pr(M) = Pr(M|G)*Pr(G) + Pr(M|G^c) * Pr(G^c)\\\\\n",
    " & = 1*10^{-5} + 10^{-6} *(1-10^{-5})\\\\\n",
    " & \\approx 0.00001099999\\\\\n",
    " \\\\\n",
    " &Pr(G|M) = \\frac{Pr(M|G) * Pr(G)}{Pr(M)}\\\\\n",
    " & = \\frac{1 * 10^-5}{0.00001099999} \\\\\n",
    " & \\approx 0.909\n",
    " \\end{split}\n",
    " \\end{equation}\n",
    " \n",
    " I assumed here that there is a guilty person in the population and that there is no more then one guilty person in said population. This in order to get the Pr(G) of 10^{-5}"
   ]
  },
  {
   "cell_type": "markdown",
   "metadata": {},
   "source": [
    "## Question 7"
   ]
  },
  {
   "cell_type": "code",
   "execution_count": 146,
   "metadata": {
    "collapsed": false
   },
   "outputs": [
    {
     "name": "stdout",
     "output_type": "stream",
     "text": [
      " Using 3 doors we get:\n",
      "\n",
      "succes without switching = 0.3700 and succes with switching = 0.6300 for a trial number of 100    \n",
      "succes without switching = 0.3380 and succes with switching = 0.6620 for a trial number of 1000    \n",
      "succes without switching = 0.3305 and succes with switching = 0.6695 for a trial number of 10000    \n",
      "succes without switching = 0.3323 and succes with switching = 0.6677 for a trial number of 100000    \n",
      "\n",
      "Using 96 doors we get:\n",
      "\n",
      "succes without switching = 0.0000 and succes with switching = 0.0000 for a trial number of 100    \n",
      "succes without switching = 0.0120 and succes with switching = 0.0130 for a trial number of 1000    \n",
      "succes without switching = 0.0109 and succes with switching = 0.0097 for a trial number of 10000    \n",
      "succes without switching = 0.0098 and succes with switching = 0.0112 for a trial number of 100000    \n",
      "With 1/n = 1/96 = 0.0104\n",
      "\n",
      "Using 88 doors we get:\n",
      "\n",
      "succes without switching = 0.0100 and succes with switching = 0.0300 for a trial number of 100    \n",
      "succes without switching = 0.0140 and succes with switching = 0.0090 for a trial number of 1000    \n",
      "succes without switching = 0.0102 and succes with switching = 0.0113 for a trial number of 10000    \n",
      "succes without switching = 0.0108 and succes with switching = 0.0117 for a trial number of 100000    \n",
      "With 1/n = 1/88 = 0.0114\n"
     ]
    }
   ],
   "source": [
    "# Function that allows the contestant to select a door out of n doors with or without switching \n",
    "# and makes the host select a door without a car inside\n",
    "def Doors(n,trials):\n",
    "    doorlist = []\n",
    "    doors = np.arange(n)\n",
    "    switchsucces = 0\n",
    "    succes = 0\n",
    "    j = 0\n",
    "    \n",
    "    while j < trials:\n",
    "        doorlist = []\n",
    "        for i in range(len(doors)):\n",
    "            doorlist.append(\"goat\")\n",
    "        \n",
    "        contestant = np.random.choice(doors,replace = True)\n",
    "        doorlist[np.random.randint(len(doorlist))] = \"car\"\n",
    "\n",
    "#       makes sure that the host selects a door which doesn't contain the car or\n",
    "#       is the contestant's door\n",
    "        while True:\n",
    "            host = np.random.choice(doors,replace = True)\n",
    "            if host != contestant:\n",
    "                if doorlist[host] != \"car\":\n",
    "                    break\n",
    "                    \n",
    "#       allows the contestant to switch to a random door which is not chosen allready\n",
    "#       by either the contestant or the host\n",
    "        while True:\n",
    "            switchchoice = np.random.choice(doors,replace = True)\n",
    "            if switchchoice != host and switchchoice != contestant:\n",
    "                contestantswitch = switchchoice\n",
    "                break\n",
    "            \n",
    "\n",
    "        if doorlist[contestantswitch] == \"car\":\n",
    "            switchsucces +=1\n",
    "        if doorlist[contestant] == \"car\":\n",
    "            succes +=1\n",
    "        j+=1\n",
    "    \n",
    "    return (float(succes)/j),(float(switchsucces)/j),trials\n",
    "\n",
    "# function for printing and calling Doors\n",
    "def DiffDoors(ndoor):\n",
    "    print \"succes without switching = %0.4f and succes with switching = %0.4f for a trial number of %i\\\n",
    "    \"%Doors(ndoor,100)\n",
    "    print \"succes without switching = %0.4f and succes with switching = %0.4f for a trial number of %i\\\n",
    "    \"%Doors(ndoor,1000)\n",
    "    print \"succes without switching = %0.4f and succes with switching = %0.4f for a trial number of %i\\\n",
    "    \"%Doors(ndoor,10000)\n",
    "    print \"succes without switching = %0.4f and succes with switching = %0.4f for a trial number of %i\\\n",
    "    \"%Doors(ndoor,100000)\n",
    "    \n",
    "# call for 3 doors\n",
    "print \" Using 3 doors we get:\\n\"\n",
    "DiffDoors(3)\n",
    "\n",
    "# call twice function Diffdoors using a random number voor ndoors between 4 and 100\n",
    "for i in range(2):\n",
    "    ndoor = np.random.randint(4,101)\n",
    "    print \"\\nUsing %i doors we get:\\n\" %ndoor\n",
    "    DiffDoors(ndoor)\n",
    "    print \"With 1/n = 1/%i = %.4f\" %(ndoor,1./ndoor)"
   ]
  },
  {
   "cell_type": "markdown",
   "metadata": {},
   "source": [
    "This shows that the chance is approximately $\\frac{2}{3}$ when using switching and 3 doors, as was shown in the lecture. Furthermore it is shown that when not switching and using n doors the chance of succes is approximately $\\frac{1}{n}$."
   ]
  },
  {
   "cell_type": "markdown",
   "metadata": {
    "collapsed": true
   },
   "source": [
    "## Question 8"
   ]
  },
  {
   "cell_type": "markdown",
   "metadata": {
    "collapsed": true
   },
   "source": [
    " \\begin{equation}\n",
    " \\begin{split}\n",
    " &Pr(C_1|G_k) = \\frac{Pr(G_k|C_1) * Pr(C_1)}{\\sum\\limits_{i=1}^n{Pr(G_k|C_i) * Pr(C_i)}}\\\\\n",
    " &= \\frac{Pr(G_k|C_1) * Pr(C_1)}{Pr(G_k|C_1) * Pr(C_1) + Pr(G_k|C_k) * Pr(C_k) + \\sum\\limits_{i=3}^n{Pr(G_k|C_i) * Pr(C_i)}}\\\\\n",
    " \\end{split}\n",
    " \\end{equation}\n",
    " here k is an arbitrary door monty hall chooses to open, we have that Pr(C_i) ,that is the chance of a car behind door i, is everywhere the same namely \\frac{1}{n} so we can divide the Pr(C_whatever) out and finally we have that monty hall will never choose the door that contains the car namely: Pr(G_k|C_k) = 0 this reduces our equation to:\n",
    " \n",
    " \\begin{equation}\n",
    " \\begin{split}\n",
    "&Pr(C_1|G_k= \\frac{Pr(G_k|C_1)}{Pr(G_k|C_1) + 0 + \\sum\\limits_{i=3}^n{Pr(G_k|C_i)}} \\\\\n",
    "&= \\frac{Pr(G_k|C_1)}{Pr(G_k|C_1) + \\sum\\limits_{i=3}^n{Pr(G_k|C_i)}}\n",
    " \\end{split}\n",
    " \\end{equation}\n",
    " \n",
    " now we have that for monty hall's first choice he can only pick out of $n-1$ doors since the contestant allready picked one.. so Pr(G_k|C_1) = $\\frac{1}{n-1}$. after Monty Hall picked a door there remains $n-2$ doors and the sum goes from i = 3 to n since two doors were already picked this means that Pr(G_k|C_i) amounts to $\\frac{1}{n-2}$ and the sum of i = 3 to n amounts to $n-2$ filling in all the n's we get:\n",
    " \n",
    " \\begin{equation}\n",
    " \\begin{split}\n",
    "&Pr(C_1|G_k = \\frac{\\frac{1}{n-1}}{\\frac{1}{n-1} + \\sum\\limits_{i=3}^n{\\frac{1}{n-2}}} \\\\\n",
    "&= \\frac{\\frac{1}{n-1}}{\\frac{1}{n-1} + (n-2)*\\frac{1}{n-2}} \\\\\n",
    "&= \\frac{\\frac{1}{n-1}}{\\frac{1}{n-1} + 1}\\\\\n",
    "&= \\frac{\\frac{1}{n-1}}{\\frac{1}{n-1} + \\frac{n-1}{n-1}}\\\\\n",
    "&= \\frac{\\frac{1}{n-1}}{\\frac{n}{n-1}} \\\\\n",
    "&= \\frac{1}{n}\n",
    " \\end{split}\n",
    " \\end{equation}\n",
    " \n",
    " which is verified by question 7."
   ]
  }
 ],
 "metadata": {
  "kernelspec": {
   "display_name": "Python [Root]",
   "language": "python",
   "name": "Python [Root]"
  },
  "language_info": {
   "codemirror_mode": {
    "name": "ipython",
    "version": 2
   },
   "file_extension": ".py",
   "mimetype": "text/x-python",
   "name": "python",
   "nbconvert_exporter": "python",
   "pygments_lexer": "ipython2",
   "version": "2.7.12"
  }
 },
 "nbformat": 4,
 "nbformat_minor": 0
}

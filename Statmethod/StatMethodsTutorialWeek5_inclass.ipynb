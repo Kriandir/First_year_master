{
 "cells": [
  {
   "cell_type": "code",
   "execution_count": 3,
   "metadata": {
    "collapsed": false
   },
   "outputs": [
    {
     "name": "stdout",
     "output_type": "stream",
     "text": [
      "Does seaborn exist on the computer? True\n"
     ]
    }
   ],
   "source": [
    "import numpy as np\n",
    "import scipy.stats\n",
    "import scipy.optimize\n",
    "import matplotlib.pyplot as plt\n",
    "\n",
    "# iPython magic command for inline figures. If this command is not given, figures are generated in windows.\n",
    "# An asterisk appears in the cell prompt (i.e. \"In [*]:\"), and the kernel stalls until the window is closed.\n",
    "%matplotlib inline\n",
    "\n",
    "## Below are two simple examples of exception handling\n",
    "\n",
    "## Try to import pandas. If not existent, set flag = False, and raise an exception.\n",
    "try:\n",
    "    import pandas as pd\n",
    "    pd_flag = True\n",
    "except ImportError:\n",
    "    print(\"Package pandas not found. Cannot do funky data structures!\")\n",
    "    pd_flag = False\n",
    "    \n",
    "## Try to import seaborn.\n",
    "try:\n",
    "    import seaborn as sns\n",
    "    sns_flag = True\n",
    "    sns.set_style(\"whitegrid\")\n",
    "    sns.set_style(\"ticks\")\n",
    "except ImportError:\n",
    "    sns_flag = False\n",
    "print(\"Does seaborn exist on the computer? \" + str(sns_flag))"
   ]
  },
  {
   "cell_type": "markdown",
   "metadata": {},
   "source": [
    "## Maximum likelihood estimation with confidence intervals on the MLEs\n",
    "\n",
    "We will now consider an example of how to fit data to obtain MLEs for the fit parameters, and also produce confidence intervals on those MLEs.  To start with we will set up this notebook with some of the useful functions which we used in Week 4:"
   ]
  },
  {
   "cell_type": "code",
   "execution_count": 4,
   "metadata": {
    "collapsed": true
   },
   "outputs": [],
   "source": [
    "### Import the scipy optimisation package\n",
    "import scipy.optimize as op\n",
    "\n",
    "###\n",
    "### The two forms of the likelihood - note that the function LogLikelihood assumes normally distributed errors\n",
    "###CHECK IF NORMALLY DISTRiBUTED ERROR BARS>>> IF TRUE >>> USE CURVE FIT\n",
    "\n",
    "def LogLikelihood(parm, xval, yval, dy): # the -ve log-likelihood\n",
    "    ymod = my_model(xval, parm)  #We define our 'physical model' separately\n",
    "    nd = scipy.stats.norm(ymod, dy) #we define our normal distribution\n",
    "    return -sum(np.log(nd.pdf(yval)))\n",
    "\n",
    "def ChiSq(parm, xval, yval, dy): # the weighted least-squares\n",
    "    ymod = my_model(xval, parm)\n",
    "    chisq = sum(pow((yval-ymod)/dy,2))\n",
    "    return chisq\n",
    "\n",
    "###\n",
    "### And to convert significances from sigma to p and vice versa\n",
    "###\n",
    "\n",
    "def sigmas_to_p(sigval):\n",
    "    nd = scipy.stats.norm(0., 1.)\n",
    "    return 2.*nd.sf(sigval)\n",
    "\n",
    "def p_to_sigmas(pval):\n",
    "    nd = scipy.stats.norm(0., 1.)\n",
    "# We use the 'inverse survival function', the inverse of the sf. We also need to divide\n",
    "# our p-value by 2 to account for the negative side of the normal distribution.\n",
    "    return nd.isf(pval/2.)"
   ]
  },
  {
   "cell_type": "markdown",
   "metadata": {},
   "source": [
    "For this example we will use the linear part of the Reynolds fluid flow data which we used to demonstrate maximum likelihood estimation with a 2-parameter linear model in Week 4.  We will first set up the model and fit using weighted-least-squares and Nelder-Mead minimisation as in Week 4, producing as output the MLEs, chi-squared, degrees-of-freedom and also the goodness of fit:"
   ]
  },
  {
   "cell_type": "code",
   "execution_count": 6,
   "metadata": {
    "collapsed": false
   },
   "outputs": [
    {
     "name": "stdout",
     "output_type": "stream",
     "text": [
      "Weighted least-squares fit results:\n",
      "Best-fitting intercept = 0.00751203430537 and gradient 0.00347096171654 with chi-squared = 5.99576886296\n",
      "for 6 d.o.f..\n",
      "The goodness of fit of the linear model is: 0.423664224004\n"
     ]
    }
   ],
   "source": [
    "reynolds = np.genfromtxt (\"reynolds.txt\", dtype=np.float, names=[\"dP\", \"v\"], skip_header=1, autostrip=True)\n",
    "## change units\n",
    "ppm = 9.80665e3\n",
    "dp = reynolds[\"dP\"]*ppm\n",
    "v = reynolds[\"v\"]\n",
    "## Now select the first 8 pairs of values, where the flow is laminar,\n",
    "## and assign to x and y\n",
    "xval = dp[0:8]\n",
    "yval = v[0:8]\n",
    "dy = 6.3e-3  ## We will assume a constant error for the purposes of this exercise\n",
    "\n",
    "# parm is the vector of parameters, a (parm[0]) and b (parm[1])\n",
    "def my_model(value, parm):\n",
    "    return parm[0] + parm[1]*value\n",
    "\n",
    "# First set the starting values of model parameters.  You should make sure\n",
    "# these aren’t way off the expected values or the optimisation may get stuck\n",
    "# - this doesn’t mean you need to know the values already, just choose something\n",
    "# that seems plausible given the data.\n",
    "parm = [0.01, 0.0035]\n",
    "# Now the optimisation function: we can also change the function called to ChiSq\n",
    "# without changing anything else, since the parameters are the same.\n",
    "result = op.minimize(ChiSq, parm, args=(xval, yval, dy), method=\"Nelder-Mead\")\n",
    "a_mle, b_mle = result[\"x\"]\n",
    "mlval = result[\"fun\"]\n",
    "\n",
    "# Output the results\n",
    "dof = len(xval)-len(parm)\n",
    "print \"Weighted least-squares fit results:\"\n",
    "print \"Best-fitting intercept = \" + str(a_mle) + \" and gradient \" + str(b_mle) + \" with chi-squared = \" + str(mlval)\n",
    "print \"for \" + str(dof) + \" d.o.f..\"\n",
    "\n",
    "# Output the goodness-of-fit\n",
    "print \"The goodness of fit of the linear model is: \" + str(scipy.stats.chi2.sf(mlval, df=dof))"
   ]
  },
  {
   "cell_type": "markdown",
   "metadata": {},
   "source": [
    "### MLE confidence intervals from the covariance matrix: `fmin_bfgs`"
   ]
  },
  {
   "cell_type": "markdown",
   "metadata": {},
   "source": [
    "We will now examine two approaches to estimate confidence intervals on the MLEs based on the <i>Hessian</i> (or equivalently, the <i>covariance matrix</i>).  In many cases we cannot easily determine the Hessian of our likelihood function analytically,\n",
    "so the best approach is to do it numerically. Here the choice of optimiser is crucial. Some\n",
    "optimisers already require knowledge of the Jacobian (or even the Hessian itself!), which we\n",
    "often don't have. Others do not calculate Jacobians or Hessians at all. The best optimisers for\n",
    "our purpose are ones which already calculate the first and second derivatives numerically and\n",
    "so can output the Hessian that we require.  First we will consider the `fmin_bfgs` function.\n",
    "\n",
    "In scipy's `optimize` package, the Nelder-Mead simplex algorithm is quite robust for minimisation problems but does not use any gradient evaluations so does not return the Hessian. Therefore, we use the `optimize` implementation of the Broyden-Fletcher-\n",
    "Goldfarb-Shanno algorithm (BFGS) which does use numerical estimates of the gradient. The\n",
    "`scipy.optimize.fmin_bfgs` minimisation routine does the job for us and even provides the inverse Hessian (i.e. the covariance matrix!) as output. The method can be a bit flakey however,\n",
    "since it's search of the parameter space sometimes makes large jumps which may lead to infinities in the likelihood function (depending on how it is set up), which can cause the minimisation\n",
    "process to stop. Therefore we must be careful to set things up so as to optimise our chances of\n",
    "a good fit.\n",
    "\n",
    "Let's assume that we have things set up as they were prior to minimisation of the\n",
    "log-likelihood. Instead of using the `minimize` routine with Nelder-Mead, we will use `fmin_bfgs`\n",
    "instead:"
   ]
  },
  {
   "cell_type": "code",
   "execution_count": 5,
   "metadata": {
    "collapsed": false
   },
   "outputs": [
    {
     "name": "stdout",
     "output_type": "stream",
     "text": [
      "Warning: Desired error not necessarily achieved due to precision loss.\n",
      "         Current function value: -28.913645\n",
      "         Iterations: 0\n",
      "         Function evaluations: 24\n",
      "         Gradient evaluations: 3\n"
     ]
    }
   ],
   "source": [
    "ml_pars, ml_funcval, ml_grad, ml_covar, func_calls, grad_calls, warnflag = \\\n",
    "scipy.optimize.fmin_bfgs(LogLikelihood, parm, args=(xval, yval, dy), full_output=True)"
   ]
  },
  {
   "cell_type": "markdown",
   "metadata": {},
   "source": [
    "This call should output the results of our minimisation to the variables given, however as you should notice, the\n",
    "minimisation fails."
   ]
  },
  {
   "cell_type": "code",
   "execution_count": 6,
   "metadata": {
    "collapsed": false
   },
   "outputs": [
    {
     "name": "stdout",
     "output_type": "stream",
     "text": [
      "[ 0.01    0.0035]\n"
     ]
    }
   ],
   "source": [
    "print ml_pars"
   ]
  },
  {
   "cell_type": "markdown",
   "metadata": {},
   "source": [
    "Our output parameters tell us that the minimisation has got stuck. To see what is going\n",
    "wrong we can make our `LogLikelihood` function more verbose:"
   ]
  },
  {
   "cell_type": "code",
   "execution_count": 7,
   "metadata": {
    "collapsed": false,
    "scrolled": true
   },
   "outputs": [
    {
     "name": "stdout",
     "output_type": "stream",
     "text": [
      "nd: [ 57.12963257  63.32363253   6.09224008  35.91952165  48.46935515\n",
      "  56.6844252   29.28654317  56.61125031]\n",
      "('LogLikelihood and parameters -28.9136454097', '[ 0.01    0.0035]')\n",
      "nd: [ 57.12957126  63.32363314   6.0922089   35.91961212  48.46927132\n",
      "  56.68436209  29.28645714  56.61118692]\n",
      "('LogLikelihood and parameters -28.9136348468', '[ 0.01000001  0.0035    ]')\n",
      "nd: [ 57.12915154  63.32364212   6.09150929  35.9223519   48.4660832\n",
      "  56.68146682  29.28183587  56.60728374]\n",
      "('LogLikelihood and parameters -28.9132454564', '[ 0.01        0.00350001]')\n",
      "nd: [ 57.12963257  63.32363253   6.09224008  35.91952165  48.46935515\n",
      "  56.6844252   29.28654317  56.61125031]\n",
      "('LogLikelihood and parameters -28.9136454097', '[ 0.01    0.0035]')\n",
      "nd: [ 0.  0.  0.  0.  0.  0.  0.  0.]\n",
      "('LogLikelihood and parameters inf', '[  -708.8541808  -26840.40717314]')\n",
      "nd: [ 0.  0.  0.  0.  0.  0.  0.  0.]\n",
      "('LogLikelihood and parameters inf', '[  -708.8541808  -26840.40717314]')\n",
      "nd: [ 0.  0.  0.  0.  0.  0.  0.  0.]\n",
      "('LogLikelihood and parameters inf', '[  -708.85418079 -26840.40717314]')\n",
      "nd: [ 0.  0.  0.  0.  0.  0.  0.  0.]\n",
      "('LogLikelihood and parameters inf', '[  -708.8541808  -26840.40717313]')\n",
      "nd: [ 62.88199035  50.60830156  32.15409363   3.56501255  40.98663119\n",
      "  19.71897382  34.93876173   5.71459216]\n",
      "('LogLikelihood and parameters -24.7985298237', '[ 0.00999291  0.0032316 ]')\n",
      "nd: [ 62.88199035  50.60830156  32.15409363   3.56501255  40.98663119\n",
      "  19.71897382  34.93876173   5.71459216]\n",
      "('LogLikelihood and parameters -24.7985298237', '[ 0.00999291  0.0032316 ]')\n",
      "nd: [ 62.88197275  50.60838171  32.15400509   3.56503278  40.98672162\n",
      "  19.71904507  34.93885185   5.7146218 ]\n",
      "('LogLikelihood and parameters -24.7985476338', '[ 0.00999293  0.0032316 ]')\n",
      "nd: [ 62.88185221  50.60955124  32.15201837   3.56564537  40.99016053\n",
      "  19.72231366  34.94369347   5.71644721]\n",
      "('LogLikelihood and parameters -24.7993864388', '[ 0.00999291  0.00323161]')\n",
      "nd: [ 0.  0.  0.  0.  0.  0.  0.  0.]\n",
      "('LogLikelihood and parameters inf', '[  -708.8541808  -26840.40717314]')\n",
      "nd: [ 0.  0.  0.  0.  0.  0.  0.  0.]\n",
      "('LogLikelihood and parameters inf', '[  -354.4220904  -13420.20183657]')\n",
      "nd: [ 0.  0.  0.  0.  0.  0.  0.  0.]\n",
      "('LogLikelihood and parameters inf', '[ -177.2060452  -6710.09916829]')\n",
      "nd: [ 0.  0.  0.  0.  0.  0.  0.  0.]\n",
      "('LogLikelihood and parameters inf', '[  -88.5980226  -3355.04783414]')\n",
      "nd: [ 0.  0.  0.  0.  0.  0.  0.  0.]\n",
      "('LogLikelihood and parameters inf', '[  -44.2940113  -1677.52216707]')\n",
      "nd: [ 0.  0.  0.  0.  0.  0.  0.  0.]\n",
      "('LogLikelihood and parameters inf', '[ -22.14200565 -838.75933354]')\n",
      "nd: [ 0.  0.  0.  0.  0.  0.  0.  0.]\n",
      "('LogLikelihood and parameters inf', '[ -11.06600283 -419.37791677]')\n",
      "nd: [ 0.  0.  0.  0.  0.  0.  0.  0.]\n",
      "('LogLikelihood and parameters inf', '[  -5.52800141 -209.68720838]')\n",
      "nd: [ 0.  0.  0.  0.  0.  0.  0.  0.]\n",
      "('LogLikelihood and parameters inf', '[  -2.75900071 -104.84185419]')\n",
      "nd: [ 0.  0.  0.  0.  0.  0.  0.  0.]\n",
      "('LogLikelihood and parameters inf', '[ -1.37450035 -52.4191771 ]')\n",
      "nd: [ 0.  0.  0.  0.  0.  0.  0.  0.]\n",
      "('LogLikelihood and parameters inf', '[ -0.68225018 -26.20783855]')\n",
      "nd: [ 0.  0.  0.  0.  0.  0.  0.  0.]\n",
      "('LogLikelihood and parameters inf', '[ -0.33612509 -13.10216927]')\n",
      "Warning: Desired error not necessarily achieved due to precision loss.\n",
      "         Current function value: -28.913645\n",
      "         Iterations: 0\n",
      "         Function evaluations: 24\n",
      "         Gradient evaluations: 3\n"
     ]
    }
   ],
   "source": [
    "def LogLikelihood(parm, xval, yval, dy): # the -ve log-likelihood\n",
    "    ymod = my_model(xval, parm)\n",
    "    nd = scipy.stats.norm(ymod, dy) #we define our normal distribution\n",
    "    print(\"nd: \" + str(nd.pdf(yval)))\n",
    "    ll= -sum(np.log(nd.pdf(yval)))\n",
    "    print(\"LogLikelihood and parameters \"+ str(ll),str(parm))\n",
    "    return ll\n",
    "\n",
    "ml_pars, ml_funcval, ml_grad, ml_covar, func_calls, grad_calls, warnflag = \\\n",
    "scipy.optimize.fmin_bfgs(LogLikelihood, parm, args=(xval, yval, dy), full_output=True)"
   ]
  },
  {
   "cell_type": "markdown",
   "metadata": {},
   "source": [
    "Now we run `fmin_bfgs` again and we see that the problem arises as the parameters jump to large negative values, leading to zero probabilities (within numerical precision) and hence a problem\n",
    "with the log-likelihood. One way to fix this is to force the parameters to take on only certain values. E.g. if we instead make the parameters used equal to the logarithm of our parameters $a$ or $b$, we restrict the range of values used for $a$ or $b$ to only be positive.  We can also add some other rules to deal with other exceptions:"
   ]
  },
  {
   "cell_type": "code",
   "execution_count": 8,
   "metadata": {
    "collapsed": false
   },
   "outputs": [
    {
     "name": "stdout",
     "output_type": "stream",
     "text": [
      "Warning: Desired error not necessarily achieved due to precision loss.\n",
      "         Current function value: -30.188265\n",
      "         Iterations: 7\n",
      "         Function evaluations: 84\n",
      "         Gradient evaluations: 18\n",
      "[ 0.00752052  0.0034705 ]\n"
     ]
    }
   ],
   "source": [
    "parm = np.log([0.01,0.0035])\n",
    "\n",
    "def LogLikelihood(parm, xval, yval, dy): # the -ve log-likelihood\n",
    "    logmax = 1.e12 # sets a maximum acceptable value for the -ve log-likelihood\n",
    "    parm_new = np.exp(np.array(parm))\n",
    "    ymod = my_model(xval, parm_new)\n",
    "    nd = scipy.stats.norm(ymod, dy) #we define our normal distribution\n",
    "    ll = -sum(np.log(nd.pdf(yval)))\n",
    "    if np.isinf(ll) or np.isnan(ll): # This catches our infinities or nans\n",
    "        print(\"I am here\")\n",
    "        print(\"parm: \" + str(parm))\n",
    "        return logmax\n",
    "    else:\n",
    "        return ll\n",
    "    \n",
    "ml_pars, ml_funcval, ml_grad, ml_covar, func_calls, grad_calls, warnflag = \\\n",
    "scipy.optimize.fmin_bfgs(LogLikelihood, parm, args=(xval, yval, dy), full_output=True)\n",
    "\n",
    "### To output remember to convert back from log to linear:\n",
    "print np.exp(ml_pars)"
   ]
  },
  {
   "cell_type": "markdown",
   "metadata": {},
   "source": [
    "With this redefined log-likelihood the BFGS minimisation is successful (as can be seen by comparing our MLEs with those obtained earlier using the robust Nelder-Mead approach). Note however that if we thought that one or more of our parameters might actually be negative, we might need to try\n",
    "a different approach. To get the errors (1-sigma confidence intervals) for $\\log{\\left(a\\right)}$ and $\\log{\\left(b\\right)}$ we just need the square roots of the diagonals of the covariance matrix returned by `fmin_bfgs` (which are the variances). We can also convert our errors from the log to linear values with standard propagation of errors i.e. using $y = \\exp{\\left(x\\right)}$ so\n",
    "that $\\Delta{y}=\\frac{\\mathrm{d}y}{\\mathrm{d}x}\\Delta{x}=\\exp{\\left(x\\right)}\\Delta{x}$."
   ]
  },
  {
   "cell_type": "code",
   "execution_count": 9,
   "metadata": {
    "collapsed": false
   },
   "outputs": [
    {
     "name": "stdout",
     "output_type": "stream",
     "text": [
      "a = 0.0075205167923 +/- 0.00486845119017\n",
      "b = 0.00347050360687 +/- 0.000123046171379\n"
     ]
    }
   ],
   "source": [
    "err = np.sqrt(np.diag(ml_covar))\n",
    "lin_err = err * np.exp(ml_pars)\n",
    "print(\"a = \" + str(np.exp(ml_pars[0])) + \" +/- \" + str(lin_err[0]))\n",
    "print(\"b = \" + str(np.exp(ml_pars[1])) + \" +/- \" + str(lin_err[1]))"
   ]
  },
  {
   "cell_type": "markdown",
   "metadata": {},
   "source": [
    "The MLEs and their 1-sigma confidence intervals are too high in precision given the size of the errors, so it would be better to round them off following the rule-of-thumb suggested in the Week 1 tutorial, i.e. to 2 s.f. in the error and then the corresponding number of decimal places in the MLE itself."
   ]
  },
  {
   "cell_type": "markdown",
   "metadata": {},
   "source": [
    "### MLE confidence intervals from the covariance matrix: `curve_fit`\n",
    "\n",
    "The `fmin_bfgs` minimiser has the advantage that requires no implicit assumption about how the errors on the data points (i.e. the errors on the $y$-values) are distributed - e.g. are they normal or not?).  In many cases however, the errors on the data <i>are</i> normally distributed and in those situations, not only can we use weighted least-squares for the likelihood statistic, but we can also use more specialised and robust mimimisation methods such as the `curve_fit` function in `scipy.optimize`.  The `curve_fit` routine uses non-linear least-squares to fit a function to data (i.e. it is not restrictied to linear least-square fitting) and if the error bars are provided it will carry out a weighted-least-squares fit, which is what we need to obtain a goodness-of-fit as well as confidence intervals.  As well as returning the best-fitting parameters (the MLEs), `curve_fit` also returns the covariance matrix evaluated at the minimum, which can be used as for `fmin_bfgs` above. "
   ]
  },
  {
   "cell_type": "code",
   "execution_count": 10,
   "metadata": {
    "collapsed": false
   },
   "outputs": [
    {
     "name": "stdout",
     "output_type": "stream",
     "text": [
      "a = 0.00752051424807 +/- 0.00490562168423\n",
      "b = 0.00347050367447 +/- 0.0001242909418\n",
      "Minimum Chi-squared = 5.99574356054 for 6 d.o.f.\n"
     ]
    }
   ],
   "source": [
    "### We define a new model function here since curve_fit requires parameters to be listed spearately\n",
    "def my_cfmodel(value, a, b): \n",
    "    return a + b*value\n",
    "\n",
    "p0 = [0.01, 0.0035]  # Define starting values\n",
    "ml_cfpars, ml_cfcovar = scipy.optimize.curve_fit(my_cfmodel, xval, yval, p0, sigma=dy)\n",
    "err = np.sqrt(np.diag(ml_cfcovar))\n",
    "\n",
    "print \"a = \" + str(ml_cfpars[0]) + \" +/- \" + str(err[0])\n",
    "print \"b = \" + str(ml_cfpars[1]) + \" +/- \" + str(err[1])\n",
    "\n",
    "### curve_fit does not return the minimum chi-squared so we must calculate that ourselves for the MLEs\n",
    "### obtained by the fit, e.g. using our original ChiSq function \n",
    "print \"Minimum Chi-squared = \" + str(ChiSq(ml_cfpars,xval,yval,dy)) + \" for \" + str(len(xval)-len(p0)) + \" d.o.f.\""
   ]
  },
  {
   "cell_type": "markdown",
   "metadata": {},
   "source": [
    "Again, as above, you should round off the MLEs and errors appropriately when you present the final results!\n",
    "\n",
    "We can compare the MLEs and errors for `curve_fit` and `fmin_bfgs`, e.g. to check that the transformation used to get a sensible fit with `fmin_bfgs` gives similar errors to `curve_fit`."
   ]
  },
  {
   "cell_type": "markdown",
   "metadata": {},
   "source": [
    "### Confidence intervals by brute-force grid search"
   ]
  },
  {
   "cell_type": "markdown",
   "metadata": {},
   "source": [
    "If we are having trouble finding the MLEs and their confidence intervals through standard minimisation, and there are not too many model parameters to search over, we can find the\n",
    "confidence intervals by brute-force search over a grid of model parameter values. E.g. to find the 1-sigma error on the log-likelihood which we fitted earlier using the Nelder-Mead method\n",
    "(i.e. go back to the original version of the log-likelihood with the parameters being linear again):"
   ]
  },
  {
   "cell_type": "code",
   "execution_count": 11,
   "metadata": {
    "collapsed": false
   },
   "outputs": [
    {
     "name": "stdout",
     "output_type": "stream",
     "text": [
      "Confidence interval for a:  0.00272727272727  -  0.0122727272727\n",
      "Confidence interval for b:  0.00318181818182  -  0.00381818181818\n",
      "a = 0.00742424242424 + 0.00484848484848/- 0.00469696969697\n",
      "b = 0.00347474747475 + 0.000343434343434/- 0.000292929292929\n"
     ]
    }
   ],
   "source": [
    "def LogLikelihood(parm, xval, yval, dy): # the -ve log-likelihood\n",
    "    ymod = my_model(xval, parm)  #We define our 'physical model' separately\n",
    "    nd = scipy.stats.norm(ymod, dy) #we define our normal distribution\n",
    "    return -sum(np.log(nd.pdf(yval)))\n",
    "\n",
    "nvals_a = 100\n",
    "nvals_b = 100\n",
    "aval = np.linspace(0.0,0.015, nvals_a)\n",
    "bval = np.linspace(0.003,0.004,nvals_b)\n",
    "ll = np.zeros((nvals_a,nvals_b))\n",
    "llmin = 1.e12\n",
    "\n",
    "# First calculate -ve log-likelihoods and find the corresponding MLEs for a and b:\n",
    "for i in range(nvals_a-1): ## x dimension\n",
    "    for j in range(nvals_b-1): ## y dimension\n",
    "        ll[i,j] = LogLikelihood([aval[i], bval[j]], xval, yval, dy)\n",
    "        if ll[i,j] < llmin:\n",
    "            llmin = ll[i,j]\n",
    "            amin = aval[i]\n",
    "            bmin = bval[j]\n",
    "\n",
    "# Now search for the values of a and b which are within 0.5 of the minimum -ve\n",
    "# log-likelihood while maximising the difference from the MLEs. These should\n",
    "# correspond to the 1-sigma errors on each MLE.\n",
    "a_cimin = 1.e12\n",
    "a_cimax = -1.e12\n",
    "b_cimin = 1.e12\n",
    "b_cimax = -1.e12\n",
    "for i in range(nvals_a-1): ## x dimension\n",
    "    for j in range(nvals_b-1): ## y dimension\n",
    "        if ll[i,j]-llmin <= 0.5:\n",
    "            if aval[i] < amin and aval[i] < a_cimin:\n",
    "                a_cimin = aval[i]\n",
    "            if aval[i] > amin and aval[i] > a_cimax:\n",
    "                a_cimax = aval[i]\n",
    "            if bval[i] < bmin and bval[i] < b_cimin:\n",
    "                b_cimin = bval[i]\n",
    "            if bval[i] > bmin and bval[i] > b_cimax:\n",
    "                b_cimax = bval[i]\n",
    "print \"Confidence interval for a: \",a_cimin,\" - \",a_cimax\n",
    "print \"Confidence interval for b: \",b_cimin,\" - \",b_cimax\n",
    "\n",
    "print(\"a = \" + str(amin) + \" + \" + str(a_cimax - amin) + \"/- \" + str(amin - a_cimin))\n",
    "print(\"b = \" + str(bmin) + \" + \" + str(b_cimax - bmin) + \"/- \" + str(bmin - b_cimin))"
   ]
  },
  {
   "cell_type": "markdown",
   "metadata": {},
   "source": [
    "The values obtained from the brute force grid-search method are similar to those obtained from the Hessian. Note however that the grid search allows us to assign different errors in different directions where it is appropriate. Of course, one could also use a similar approach using weighted least-squares (except the difference in $X^2$ used for a given error bar is different, e.g. $\\Delta{X^2} = 1$ for 1-sigma confidence intervals.\n",
    "\n",
    "For bivariate data, especially when the errors in MLEs are covariant, it is often useful to plot\n",
    "*confidence contours* showing contours of constant confidence on an MLE (i.e. contours of the\n",
    "likelihood surface)."
   ]
  },
  {
   "cell_type": "code",
   "execution_count": 12,
   "metadata": {
    "collapsed": false
   },
   "outputs": [
    {
     "name": "stdout",
     "output_type": "stream",
     "text": [
      "[ 0.003       0.0030101   0.0030202   0.0030303   0.0030404   0.00305051\n",
      "  0.00306061  0.00307071  0.00308081  0.00309091  0.00310101  0.00311111\n",
      "  0.00312121  0.00313131  0.00314141  0.00315152  0.00316162  0.00317172\n",
      "  0.00318182  0.00319192  0.00320202  0.00321212  0.00322222  0.00323232\n",
      "  0.00324242  0.00325253  0.00326263  0.00327273  0.00328283  0.00329293\n",
      "  0.00330303  0.00331313  0.00332323  0.00333333  0.00334343  0.00335354\n",
      "  0.00336364  0.00337374  0.00338384  0.00339394  0.00340404  0.00341414\n",
      "  0.00342424  0.00343434  0.00344444  0.00345455  0.00346465  0.00347475\n",
      "  0.00348485  0.00349495  0.00350505  0.00351515  0.00352525  0.00353535\n",
      "  0.00354545  0.00355556  0.00356566  0.00357576  0.00358586  0.00359596\n",
      "  0.00360606  0.00361616  0.00362626  0.00363636  0.00364646  0.00365657\n",
      "  0.00366667  0.00367677  0.00368687  0.00369697  0.00370707  0.00371717\n",
      "  0.00372727  0.00373737  0.00374747  0.00375758  0.00376768  0.00377778\n",
      "  0.00378788  0.00379798  0.00380808  0.00381818  0.00382828  0.00383838\n",
      "  0.00384848  0.00385859  0.00386869  0.00387879  0.00388889  0.00389899\n",
      "  0.00390909  0.00391919  0.00392929  0.00393939  0.00394949  0.0039596\n",
      "  0.0039697   0.0039798   0.0039899   0.004     ]\n"
     ]
    },
    {
     "data": {
      "image/png": "[encoded data removed]",
      "text/plain": [
       "<matplotlib.figure.Figure at 0x2b7efecd7850>"
      ]
     },
     "metadata": {},
     "output_type": "display_data"
    }
   ],
   "source": [
    "# First we assign all three variables to their own 2D arrays:\n",
    "print bval\n",
    "X, Y = np.meshgrid(bval,aval)\n",
    "#Z = np.exp(-ll)\n",
    "Z = ll\n",
    "levels = [llmin+0.5, llmin+2.0, llmin+4.5] # plots the 1, 2 and 3-sigma\n",
    "\n",
    "# confidence contours\n",
    "plt.figure()\n",
    "ax = plt.contour(X, Y, Z, levels, colors = ('r', 'g', 'b'))\n",
    "plt.xlabel('b')\n",
    "plt.ylabel('a')\n",
    "plt.show()"
   ]
  },
  {
   "cell_type": "markdown",
   "metadata": {},
   "source": [
    "## A complete example: the Pedroni et al. pion scattering data from Vaughan\n",
    "\n",
    "We will now run through a complete example of ML fitting using the Pedroni et al. pion scattering data from the Vaughan book.  The data is contained in the file `pedroni.dat`.  Important background information is in Appendix B.5 of the book, which is also scanned as a pdf available with this tutorial. "
   ]
  },
  {
   "cell_type": "code",
   "execution_count": 70,
   "metadata": {
    "collapsed": false
   },
   "outputs": [],
   "source": [
    "#  First let's read in the data.  Use np.genfromtxt which can deal with NANs\n",
    "pion = np.genfromtxt(\"pedroni.dat\", dtype=np.float, skip_header=1, \n",
    "autostrip=True)\n",
    "# and only include values for energies up to 313 MeV, as recommended\n",
    "# in the book and by Pedroni et al.\n",
    "pion_clean = pion[pion[:,0] <= 313.0]\n",
    "xval = pion_clean[:,0]\n",
    "yval = pion_clean[:,1]\n",
    "dy = pion_clean[:,2]"
   ]
  },
  {
   "cell_type": "markdown",
   "metadata": {},
   "source": [
    "Now from this point we need to define the (Breit-Wigner) model and proceed to fit it to the data to find the MLEs and their 1-sigma confidence intervals, as well as the goodness of fit of the model.  At the end, you should plot the data and model together, along with the data-minus-model residuals in a separate plot."
   ]
  },
  {
   "cell_type": "code",
   "execution_count": 79,
   "metadata": {
    "collapsed": false
   },
   "outputs": [
    {
     "name": "stdout",
     "output_type": "stream",
     "text": [
      "a = 110.22703941 +/- 0.37736778041\n",
      "b = 175.820915231 +/- 0.180325178623\n",
      "c = 205.022251608 +/- 0.525305370821\n",
      "Minimum Chi-squared = 38.012956708 for 33 d.o.f.\n"
     ]
    },
    {
     "data": {
      "image/png": "[encoded data removed]",
      "text/plain": [
       "<matplotlib.figure.Figure at 0x2ab756237fd0>"
      ]
     },
     "metadata": {},
     "output_type": "display_data"
    }
   ],
   "source": [
    "def Breit_Wigner(value,a,b,c):\n",
    "    gam = a*(value/130.)**(1./2.)\n",
    "#     print a,b,c\n",
    "    return (c*((gam**2.)/4))/((value-b)**2 + ((gam**2.)/4.))\n",
    "\n",
    "p0 = [100,180,200]\n",
    "x= np.arange(0,400,1)\n",
    "ymod = Breit_Wigner(x,p0[0],p0[1],p0[2])\n",
    "plt.plot(x,ymod)\n",
    "plt.show\n",
    "\n",
    "\n",
    "def ChiSq(parm, xval, yval, dy): # the weighted least-squares\n",
    "    ymod = Breit_Wigner(xval, parm[0],parm[1],parm[2])\n",
    "    chisq = sum(pow((yval-ymod)/dy,2))\n",
    "    return chisq\n",
    "\n",
    "xval = eval\n",
    "yval = cross\n",
    "dy = crosserr\n",
    "\n",
    "  # Define starting values\n",
    "ml_cfpars, ml_cfcovar = scipy.optimize.curve_fit(Breit_Wigner, xval, yval, p0, sigma=dy)\n",
    "err = np.sqrt(np.diag(ml_cfcovar))\n",
    "\n",
    "print \"a = \" + str(ml_cfpars[0]) + \" +/- \" + str(err[0])\n",
    "print \"b = \" + str(ml_cfpars[1]) + \" +/- \" + str(err[1])\n",
    "print \"c = \" + str(ml_cfpars[2]) + \" +/- \" + str(err[2])\n",
    "\n",
    "### curve_fit does not return the minimum chi-squared so we must calculate that ourselves for the MLEs\n",
    "### obtained by the fit, e.g. using our original ChiSq function \n",
    "print \"Minimum Chi-squared = \" + str(ChiSq(ml_cfpars,xval,yval,dy)) + \" for \" + str(len(xval)-len(p0)) + \" d.o.f.\"\n",
    "\n",
    "\n",
    "plt.plot(x,ymod)\n",
    "plt.scatter(eval,cross)\n",
    "plt.show()\n"
   ]
  },
  {
   "cell_type": "code",
   "execution_count": null,
   "metadata": {
    "collapsed": false
   },
   "outputs": [],
   "source": []
  },
  {
   "cell_type": "code",
   "execution_count": null,
   "metadata": {
    "collapsed": false
   },
   "outputs": [],
   "source": []
  },
  {
   "cell_type": "markdown",
   "metadata": {},
   "source": [
    "## Dealing with binned data"
   ]
  },
  {
   "cell_type": "markdown",
   "metadata": {},
   "source": [
    "So far we have been dealing with data where the $x$ and $y$ values are already defined, along with the errors on the $y$ values (such that we have generally assumed the errors to be normally distributed).  However, many types of data are in the form of <i>counts</i> which must be binned (i.e. into histograms) so that models may be fitted to the distribution of counts with whatever their values are (e.g. energy, if the counts are photons or other particles drawn from a continuous distribution of energies which are observed by some type of spectrometer).  How do we deal with this data?  How do we fit models to it? Here we will start with a simple list of photon energies and go from there..."
   ]
  },
  {
   "cell_type": "code",
   "execution_count": 13,
   "metadata": {
    "collapsed": false
   },
   "outputs": [],
   "source": [
    "photens = np.genfromtxt('photon_energies.txt')"
   ]
  },
  {
   "cell_type": "code",
   "execution_count": null,
   "metadata": {
    "collapsed": true
   },
   "outputs": [],
   "source": []
  },
  {
   "cell_type": "code",
   "execution_count": null,
   "metadata": {
    "collapsed": false
   },
   "outputs": [],
   "source": []
  },
  {
   "cell_type": "code",
   "execution_count": null,
   "metadata": {
    "collapsed": true
   },
   "outputs": [],
   "source": []
  }
 ],
 "metadata": {
  "kernelspec": {
   "display_name": "Python [Root]",
   "language": "python",
   "name": "Python [Root]"
  },
  "language_info": {
   "codemirror_mode": {
    "name": "ipython",
    "version": 2
   },
   "file_extension": ".py",
   "mimetype": "text/x-python",
   "name": "python",
   "nbconvert_exporter": "python",
   "pygments_lexer": "ipython2",
   "version": "2.7.12"
  }
 },
 "nbformat": 4,
 "nbformat_minor": 0
}
